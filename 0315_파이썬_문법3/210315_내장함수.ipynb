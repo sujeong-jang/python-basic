{
 "cells": [
  {
   "cell_type": "markdown",
   "id": "latter-egyptian",
   "metadata": {},
   "source": [
    "### 내장함수"
   ]
  },
  {
   "cell_type": "markdown",
   "id": "modular-submission",
   "metadata": {},
   "source": [
    "### 1. emulate()"
   ]
  },
  {
   "cell_type": "code",
   "execution_count": 4,
   "id": "canadian-warrant",
   "metadata": {},
   "outputs": [
    {
     "data": {
      "text/plain": [
       "[(0, '봄'), (1, '여름'), (2, '가을'), (3, '겨울')]"
      ]
     },
     "execution_count": 4,
     "metadata": {},
     "output_type": "execute_result"
    }
   ],
   "source": [
    "seasons = [\"봄\", \"여름\", \"가을\", \"겨울\"]\n",
    "list(enumerate(seasons))"
   ]
  },
  {
   "cell_type": "code",
   "execution_count": 5,
   "id": "framed-devon",
   "metadata": {},
   "outputs": [
    {
     "name": "stdout",
     "output_type": "stream",
     "text": [
      "n=  0 계절=  봄\n",
      "n=  1 계절=  여름\n",
      "n=  2 계절=  가을\n",
      "n=  3 계절=  겨울\n"
     ]
    }
   ],
   "source": [
    "n = 0\n",
    "for data in seasons:\n",
    "    print(\"n= \", n, \"계절= \", data)\n",
    "    n+=1"
   ]
  },
  {
   "cell_type": "code",
   "execution_count": 6,
   "id": "induced-request",
   "metadata": {},
   "outputs": [
    {
     "name": "stdout",
     "output_type": "stream",
     "text": [
      "n=  0 계절=  봄\n",
      "n=  1 계절=  여름\n",
      "n=  2 계절=  가을\n",
      "n=  3 계절=  겨울\n"
     ]
    }
   ],
   "source": [
    "for i, data in enumerate(seasons):\n",
    "    print(\"n= \", i, \"계절= \", data)"
   ]
  },
  {
   "cell_type": "code",
   "execution_count": 7,
   "id": "effective-yahoo",
   "metadata": {},
   "outputs": [
    {
     "ename": "TypeError",
     "evalue": "'int' object is not iterable",
     "output_type": "error",
     "traceback": [
      "\u001b[1;31m---------------------------------------------------------------------------\u001b[0m",
      "\u001b[1;31mTypeError\u001b[0m                                 Traceback (most recent call last)",
      "\u001b[1;32m<ipython-input-7-7076d254b9a9>\u001b[0m in \u001b[0;36m<module>\u001b[1;34m\u001b[0m\n\u001b[1;32m----> 1\u001b[1;33m \u001b[0menumerate\u001b[0m\u001b[1;33m(\u001b[0m\u001b[1;36m2\u001b[0m\u001b[1;33m)\u001b[0m\u001b[1;33m\u001b[0m\u001b[0m\n\u001b[0m",
      "\u001b[1;31mTypeError\u001b[0m: 'int' object is not iterable"
     ]
    }
   ],
   "source": [
    "enumerate(2) # int는 안됨"
   ]
  },
  {
   "cell_type": "code",
   "execution_count": 8,
   "id": "cosmetic-position",
   "metadata": {},
   "outputs": [
    {
     "data": {
      "text/plain": [
       "<enumerate at 0x224b8356798>"
      ]
     },
     "execution_count": 8,
     "metadata": {},
     "output_type": "execute_result"
    }
   ],
   "source": [
    "enumerate(\"a\") # 문자열은 가능"
   ]
  },
  {
   "cell_type": "markdown",
   "id": "junior-proceeding",
   "metadata": {},
   "source": [
    "### 2. eval"
   ]
  },
  {
   "cell_type": "code",
   "execution_count": 11,
   "id": "employed-belle",
   "metadata": {},
   "outputs": [
    {
     "name": "stdout",
     "output_type": "stream",
     "text": [
      "x+1\n"
     ]
    }
   ],
   "source": [
    "x = 1\n",
    "print(\"x+1\")"
   ]
  },
  {
   "cell_type": "code",
   "execution_count": 12,
   "id": "extensive-liquid",
   "metadata": {},
   "outputs": [
    {
     "data": {
      "text/plain": [
       "2"
      ]
     },
     "execution_count": 12,
     "metadata": {},
     "output_type": "execute_result"
    }
   ],
   "source": [
    "# 문자열 안에 있는 수식을 실행함\n",
    "eval(\"x+1\")"
   ]
  },
  {
   "cell_type": "code",
   "execution_count": 13,
   "id": "considered-warrior",
   "metadata": {},
   "outputs": [
    {
     "name": "stdout",
     "output_type": "stream",
     "text": [
      "print(55)\n"
     ]
    }
   ],
   "source": [
    "x = \"print(55)\"\n",
    "print(x)"
   ]
  },
  {
   "cell_type": "code",
   "execution_count": 14,
   "id": "major-grove",
   "metadata": {},
   "outputs": [
    {
     "name": "stdout",
     "output_type": "stream",
     "text": [
      "55\n"
     ]
    }
   ],
   "source": [
    "eval(x)"
   ]
  },
  {
   "cell_type": "code",
   "execution_count": 15,
   "id": "regular-education",
   "metadata": {},
   "outputs": [
    {
     "data": {
      "text/plain": [
       "4"
      ]
     },
     "execution_count": 15,
     "metadata": {},
     "output_type": "execute_result"
    }
   ],
   "source": [
    "eval(\"len([1,2,3,4])\")"
   ]
  },
  {
   "cell_type": "markdown",
   "id": "historic-mathematics",
   "metadata": {},
   "source": [
    "### 3. lambda"
   ]
  },
  {
   "cell_type": "code",
   "execution_count": 16,
   "id": "sixth-outreach",
   "metadata": {},
   "outputs": [
    {
     "data": {
      "text/plain": [
       "15"
      ]
     },
     "execution_count": 16,
     "metadata": {},
     "output_type": "execute_result"
    }
   ],
   "source": [
    "# 이름 없는 함수\n",
    "def x(a):\n",
    "    return a + 10\n",
    "x(5)"
   ]
  },
  {
   "cell_type": "code",
   "execution_count": 20,
   "id": "modern-light",
   "metadata": {},
   "outputs": [],
   "source": [
    "y = lambda a: a+10"
   ]
  },
  {
   "cell_type": "code",
   "execution_count": 21,
   "id": "recovered-legend",
   "metadata": {},
   "outputs": [
    {
     "data": {
      "text/plain": [
       "15"
      ]
     },
     "execution_count": 21,
     "metadata": {},
     "output_type": "execute_result"
    }
   ],
   "source": [
    "y(5)"
   ]
  },
  {
   "cell_type": "code",
   "execution_count": 23,
   "id": "worthy-supplement",
   "metadata": {},
   "outputs": [],
   "source": [
    "x = lambda a,b: a+b"
   ]
  },
  {
   "cell_type": "code",
   "execution_count": 24,
   "id": "atlantic-atlantic",
   "metadata": {},
   "outputs": [
    {
     "data": {
      "text/plain": [
       "9"
      ]
     },
     "execution_count": 24,
     "metadata": {},
     "output_type": "execute_result"
    }
   ],
   "source": [
    "x(3,6)"
   ]
  },
  {
   "cell_type": "code",
   "execution_count": 25,
   "id": "complete-jamaica",
   "metadata": {},
   "outputs": [],
   "source": [
    "def myfunc(n):\n",
    "    return lambda a:a*n"
   ]
  },
  {
   "cell_type": "code",
   "execution_count": 27,
   "id": "medieval-assets",
   "metadata": {},
   "outputs": [],
   "source": [
    "mydoubler = myfunc(2)"
   ]
  },
  {
   "cell_type": "code",
   "execution_count": 28,
   "id": "dense-compromise",
   "metadata": {},
   "outputs": [
    {
     "data": {
      "text/plain": [
       "10"
      ]
     },
     "execution_count": 28,
     "metadata": {},
     "output_type": "execute_result"
    }
   ],
   "source": [
    "mydoubler(5)"
   ]
  },
  {
   "cell_type": "markdown",
   "id": "collective-library",
   "metadata": {},
   "source": [
    "### 4. filter"
   ]
  },
  {
   "cell_type": "code",
   "execution_count": 30,
   "id": "acquired-platinum",
   "metadata": {},
   "outputs": [],
   "source": [
    "ages = [5, 12,17, 18, 24, 32]\n",
    "\n",
    "def myfunc(x):\n",
    "    if x < 16:\n",
    "        return False\n",
    "    else:\n",
    "        return True"
   ]
  },
  {
   "cell_type": "code",
   "execution_count": 33,
   "id": "innocent-drawing",
   "metadata": {},
   "outputs": [],
   "source": [
    "a = filter(myfunc, ages)"
   ]
  },
  {
   "cell_type": "code",
   "execution_count": 35,
   "id": "automated-jacob",
   "metadata": {},
   "outputs": [
    {
     "data": {
      "text/plain": [
       "[17, 18, 24, 32]"
      ]
     },
     "execution_count": 35,
     "metadata": {},
     "output_type": "execute_result"
    }
   ],
   "source": [
    "list(a) # 리스트로 변환하면 데이터 값을 가져올 수 있다"
   ]
  },
  {
   "cell_type": "code",
   "execution_count": 37,
   "id": "atmospheric-intranet",
   "metadata": {},
   "outputs": [],
   "source": [
    "target = list(range(1,11))\n",
    "\n",
    "def is_even(n):\n",
    "    return True if n%2 == 0 else False"
   ]
  },
  {
   "cell_type": "code",
   "execution_count": 39,
   "id": "furnished-scheme",
   "metadata": {},
   "outputs": [],
   "source": [
    "result = filter(is_even, target)"
   ]
  },
  {
   "cell_type": "code",
   "execution_count": 40,
   "id": "celtic-calgary",
   "metadata": {},
   "outputs": [
    {
     "data": {
      "text/plain": [
       "[2, 4, 6, 8, 10]"
      ]
     },
     "execution_count": 40,
     "metadata": {},
     "output_type": "execute_result"
    }
   ],
   "source": [
    "list(result)"
   ]
  },
  {
   "cell_type": "code",
   "execution_count": 45,
   "id": "supported-crack",
   "metadata": {},
   "outputs": [
    {
     "name": "stdout",
     "output_type": "stream",
     "text": [
      "x=  2\n",
      "x=  4\n",
      "x=  6\n",
      "x=  8\n",
      "x=  10\n"
     ]
    }
   ],
   "source": [
    "for x in filter(is_even, target):\n",
    "    print(\"x= \", x)"
   ]
  },
  {
   "cell_type": "code",
   "execution_count": 46,
   "id": "interesting-benefit",
   "metadata": {},
   "outputs": [
    {
     "data": {
      "text/plain": [
       "[2, 4, 6, 8, 10]"
      ]
     },
     "execution_count": 46,
     "metadata": {},
     "output_type": "execute_result"
    }
   ],
   "source": [
    "target = list(range(1, 11))\n",
    "list(filter(lambda a: a%2 == 0, target))"
   ]
  },
  {
   "cell_type": "code",
   "execution_count": 47,
   "id": "major-primary",
   "metadata": {},
   "outputs": [
    {
     "data": {
      "text/plain": [
       "[2, 4, 6, 8, 10]"
      ]
     },
     "execution_count": 47,
     "metadata": {},
     "output_type": "execute_result"
    }
   ],
   "source": [
    "list(filter(lambda a: a%2 == 0, list(range(1,11))))"
   ]
  },
  {
   "cell_type": "markdown",
   "id": "desperate-berkeley",
   "metadata": {},
   "source": [
    "### 5. map"
   ]
  },
  {
   "cell_type": "code",
   "execution_count": 48,
   "id": "banner-convert",
   "metadata": {},
   "outputs": [],
   "source": [
    "def myfunc(n):\n",
    "    return len(n)"
   ]
  },
  {
   "cell_type": "code",
   "execution_count": 51,
   "id": "forward-damage",
   "metadata": {},
   "outputs": [
    {
     "data": {
      "text/plain": [
       "[1, 2, 3]"
      ]
     },
     "execution_count": 51,
     "metadata": {},
     "output_type": "execute_result"
    }
   ],
   "source": [
    "m = map(myfunc, (\"a\", \"ab\", \"abc\")) # myfunc(\"a\"), myfunc(\"ab\"), myfunc(\"abc\") 순서대로 실행\n",
    "list(m)"
   ]
  },
  {
   "cell_type": "code",
   "execution_count": 52,
   "id": "personalized-matter",
   "metadata": {},
   "outputs": [
    {
     "data": {
      "text/plain": [
       "['a-ab', 'b-bb', 'c-cb']"
      ]
     },
     "execution_count": 52,
     "metadata": {},
     "output_type": "execute_result"
    }
   ],
   "source": [
    "def myfunc(a, b):\n",
    "    return a+\"-\"+b\n",
    "\n",
    "a = (\"a\", \"b\", \"c\")\n",
    "b = (\"ab\", \"bb\", \"cb\")\n",
    "\n",
    "list(map(myfunc,a,b))"
   ]
  },
  {
   "cell_type": "code",
   "execution_count": 54,
   "id": "consecutive-consultancy",
   "metadata": {},
   "outputs": [
    {
     "data": {
      "text/plain": [
       "[2, 3, 4, 5, 6]"
      ]
     },
     "execution_count": 54,
     "metadata": {},
     "output_type": "execute_result"
    }
   ],
   "source": [
    "def myfunc(n):\n",
    "    return n + 1\n",
    "\n",
    "target = list(range(1,6))\n",
    "list(map(myfunc, target))"
   ]
  },
  {
   "cell_type": "code",
   "execution_count": 55,
   "id": "detailed-clone",
   "metadata": {},
   "outputs": [
    {
     "data": {
      "text/plain": [
       "[2, 3, 4, 5, 6]"
      ]
     },
     "execution_count": 55,
     "metadata": {},
     "output_type": "execute_result"
    }
   ],
   "source": [
    "# lambda 사용\n",
    "list(map(lambda a: a+1, target))"
   ]
  },
  {
   "cell_type": "code",
   "execution_count": 56,
   "id": "junior-coverage",
   "metadata": {},
   "outputs": [
    {
     "data": {
      "text/plain": [
       "[2, 3, 4, 5, 6]"
      ]
     },
     "execution_count": 56,
     "metadata": {},
     "output_type": "execute_result"
    }
   ],
   "source": [
    "# 한 줄로 쓰기\n",
    "list(map(lambda a: a+1, list(range(1,6))))"
   ]
  },
  {
   "cell_type": "markdown",
   "id": "handy-mention",
   "metadata": {},
   "source": [
    "### 6. zip"
   ]
  },
  {
   "cell_type": "code",
   "execution_count": 58,
   "id": "functional-gibson",
   "metadata": {},
   "outputs": [],
   "source": [
    "# 각 iterables의 요소를 모으는 이터레이터를 만듬"
   ]
  },
  {
   "cell_type": "code",
   "execution_count": 60,
   "id": "retired-setting",
   "metadata": {},
   "outputs": [
    {
     "data": {
      "text/plain": [
       "[(1, 4), (2, 5), (3, 6)]"
      ]
     },
     "execution_count": 60,
     "metadata": {},
     "output_type": "execute_result"
    }
   ],
   "source": [
    "x = [1,2,3]; y = [4,5,6]\n",
    "\n",
    "list(zip(x,y))"
   ]
  },
  {
   "cell_type": "code",
   "execution_count": 61,
   "id": "directed-evening",
   "metadata": {},
   "outputs": [
    {
     "data": {
      "text/plain": [
       "[(1, 2, 3), (4, 5, 6)]"
      ]
     },
     "execution_count": 61,
     "metadata": {},
     "output_type": "execute_result"
    }
   ],
   "source": [
    "list(zip(*zip(x,y))) # unzip"
   ]
  },
  {
   "cell_type": "markdown",
   "id": "dying-indianapolis",
   "metadata": {},
   "source": [
    "### 7. reduce\n",
    "    : map()과 비슷"
   ]
  },
  {
   "cell_type": "code",
   "execution_count": 38,
   "id": "standard-deadline",
   "metadata": {},
   "outputs": [
    {
     "ename": "SyntaxError",
     "evalue": "invalid syntax (<ipython-input-38-a336c61df32a>, line 3)",
     "output_type": "error",
     "traceback": [
      "\u001b[1;36m  File \u001b[1;32m\"<ipython-input-38-a336c61df32a>\"\u001b[1;36m, line \u001b[1;32m3\u001b[0m\n\u001b[1;33m    print(f\"{a} + {b} = {result}\")\u001b[0m\n\u001b[1;37m                                ^\u001b[0m\n\u001b[1;31mSyntaxError\u001b[0m\u001b[1;31m:\u001b[0m invalid syntax\n"
     ]
    }
   ],
   "source": [
    "def my_add(a,b):\n",
    "    result = a + b\n",
    "    print(f\"{a} + {b} = {result}\")\n",
    "    return result\n",
    "\n",
    "my_add(5,5)"
   ]
  },
  {
   "cell_type": "code",
   "execution_count": 39,
   "id": "natural-glasgow",
   "metadata": {},
   "outputs": [
    {
     "ename": "NameError",
     "evalue": "name 'my_add' is not defined",
     "output_type": "error",
     "traceback": [
      "\u001b[1;31m---------------------------------------------------------------------------\u001b[0m",
      "\u001b[1;31mNameError\u001b[0m                                 Traceback (most recent call last)",
      "\u001b[1;32m<ipython-input-39-c19fe0c4d74f>\u001b[0m in \u001b[0;36m<module>\u001b[1;34m\u001b[0m\n\u001b[0;32m      1\u001b[0m \u001b[1;32mfrom\u001b[0m \u001b[0mfunctools\u001b[0m \u001b[1;32mimport\u001b[0m \u001b[0mreduce\u001b[0m\u001b[1;33m\u001b[0m\u001b[0m\n\u001b[0;32m      2\u001b[0m \u001b[0mnum\u001b[0m \u001b[1;33m=\u001b[0m \u001b[0mlist\u001b[0m\u001b[1;33m(\u001b[0m\u001b[0mrange\u001b[0m\u001b[1;33m(\u001b[0m\u001b[1;36m0\u001b[0m\u001b[1;33m,\u001b[0m\u001b[1;36m5\u001b[0m\u001b[1;33m)\u001b[0m\u001b[1;33m)\u001b[0m\u001b[1;33m\u001b[0m\u001b[0m\n\u001b[1;32m----> 3\u001b[1;33m \u001b[0mreduce\u001b[0m\u001b[1;33m(\u001b[0m\u001b[0mmy_add\u001b[0m\u001b[1;33m,\u001b[0m \u001b[0mnum\u001b[0m\u001b[1;33m)\u001b[0m\u001b[1;33m\u001b[0m\u001b[0m\n\u001b[0m",
      "\u001b[1;31mNameError\u001b[0m: name 'my_add' is not defined"
     ]
    }
   ],
   "source": [
    "from functools import reduce\n",
    "num = list(range(0,5))\n",
    "reduce(my_add, num)"
   ]
  },
  {
   "cell_type": "markdown",
   "id": "chubby-shell",
   "metadata": {},
   "source": [
    "### 8. set()"
   ]
  },
  {
   "cell_type": "code",
   "execution_count": 69,
   "id": "invalid-arrival",
   "metadata": {},
   "outputs": [
    {
     "data": {
      "text/plain": [
       "{1, 3, 4, 5, 7, 9}"
      ]
     },
     "execution_count": 69,
     "metadata": {},
     "output_type": "execute_result"
    }
   ],
   "source": [
    "my_set = set((1,3,4,5,7,9))\n",
    "my_set"
   ]
  },
  {
   "cell_type": "code",
   "execution_count": 70,
   "id": "quality-amplifier",
   "metadata": {},
   "outputs": [
    {
     "data": {
      "text/plain": [
       "{2, 3, 4, 5, 6}"
      ]
     },
     "execution_count": 70,
     "metadata": {},
     "output_type": "execute_result"
    }
   ],
   "source": [
    "my_set = {2,4,5,2,3,5,6,3,}\n",
    "my_set"
   ]
  },
  {
   "cell_type": "code",
   "execution_count": 73,
   "id": "lyric-pitch",
   "metadata": {},
   "outputs": [
    {
     "data": {
      "text/plain": [
       "2"
      ]
     },
     "execution_count": 73,
     "metadata": {},
     "output_type": "execute_result"
    }
   ],
   "source": [
    "my_set.pop()"
   ]
  },
  {
   "cell_type": "code",
   "execution_count": 74,
   "id": "structural-kennedy",
   "metadata": {},
   "outputs": [
    {
     "data": {
      "text/plain": [
       "{3, 4, 5, 6}"
      ]
     },
     "execution_count": 74,
     "metadata": {},
     "output_type": "execute_result"
    }
   ],
   "source": [
    "my_set"
   ]
  },
  {
   "cell_type": "code",
   "execution_count": 75,
   "id": "raised-norman",
   "metadata": {},
   "outputs": [
    {
     "data": {
      "text/plain": [
       "{1, 2, 3, 'a', 'b', 'c'}"
      ]
     },
     "execution_count": 75,
     "metadata": {},
     "output_type": "execute_result"
    }
   ],
   "source": [
    "# union\n",
    "set1 = {\"a\", \"b\", \"c\"}\n",
    "set2 = {1,2,3}\n",
    "\n",
    "set1.union(set2)"
   ]
  },
  {
   "cell_type": "code",
   "execution_count": 76,
   "id": "noticed-morris",
   "metadata": {},
   "outputs": [
    {
     "data": {
      "text/plain": [
       "{'a', 'b', 'c'}"
      ]
     },
     "execution_count": 76,
     "metadata": {},
     "output_type": "execute_result"
    }
   ],
   "source": [
    "set1"
   ]
  },
  {
   "cell_type": "code",
   "execution_count": 79,
   "id": "choice-projection",
   "metadata": {},
   "outputs": [],
   "source": [
    "set1.update(set2)"
   ]
  },
  {
   "cell_type": "code",
   "execution_count": 80,
   "id": "classified-binary",
   "metadata": {},
   "outputs": [
    {
     "data": {
      "text/plain": [
       "{1, 2, 3, 'a', 'b', 'c'}"
      ]
     },
     "execution_count": 80,
     "metadata": {},
     "output_type": "execute_result"
    }
   ],
   "source": [
    "set1"
   ]
  },
  {
   "cell_type": "code",
   "execution_count": 84,
   "id": "ahead-sheep",
   "metadata": {},
   "outputs": [
    {
     "data": {
      "text/plain": [
       "{3}"
      ]
     },
     "execution_count": 84,
     "metadata": {},
     "output_type": "execute_result"
    }
   ],
   "source": [
    "x = {1,3,5}\n",
    "y = {3,4,2}\n",
    "\n",
    "x.intersection(y)"
   ]
  },
  {
   "cell_type": "code",
   "execution_count": 85,
   "id": "special-consent",
   "metadata": {},
   "outputs": [
    {
     "data": {
      "text/plain": [
       "{1, 5}"
      ]
     },
     "execution_count": 85,
     "metadata": {},
     "output_type": "execute_result"
    }
   ],
   "source": [
    "x - y"
   ]
  },
  {
   "cell_type": "code",
   "execution_count": 90,
   "id": "hybrid-greene",
   "metadata": {},
   "outputs": [
    {
     "data": {
      "text/plain": [
       "[1, 2, 3, 4]"
      ]
     },
     "execution_count": 90,
     "metadata": {},
     "output_type": "execute_result"
    }
   ],
   "source": [
    "# iterables\n",
    "mylist = list(range(1,5)); mylist"
   ]
  },
  {
   "cell_type": "code",
   "execution_count": 94,
   "id": "ignored-optimum",
   "metadata": {},
   "outputs": [
    {
     "data": {
      "text/plain": [
       "[1, 2, 3, 4]"
      ]
     },
     "execution_count": 94,
     "metadata": {},
     "output_type": "execute_result"
    }
   ],
   "source": [
    "mylist"
   ]
  },
  {
   "cell_type": "code",
   "execution_count": 91,
   "id": "auburn-intellectual",
   "metadata": {},
   "outputs": [
    {
     "data": {
      "text/plain": [
       "<generator object <genexpr> at 0x00000224B83C38E0>"
      ]
     },
     "execution_count": 91,
     "metadata": {},
     "output_type": "execute_result"
    }
   ],
   "source": [
    "mygenerator = (x*x for x in range(3))\n",
    "mygenerator"
   ]
  },
  {
   "cell_type": "code",
   "execution_count": 92,
   "id": "determined-increase",
   "metadata": {},
   "outputs": [
    {
     "data": {
      "text/plain": [
       "[0, 1, 4]"
      ]
     },
     "execution_count": 92,
     "metadata": {},
     "output_type": "execute_result"
    }
   ],
   "source": [
    "list(mygenerator) "
   ]
  },
  {
   "cell_type": "code",
   "execution_count": 93,
   "id": "broadband-quick",
   "metadata": {},
   "outputs": [
    {
     "data": {
      "text/plain": [
       "[]"
      ]
     },
     "execution_count": 93,
     "metadata": {},
     "output_type": "execute_result"
    }
   ],
   "source": [
    "list(mygenerator) # iterable 구조는 계속 남아있지만, generator 구조는 한번 사용하면 소멸됨"
   ]
  },
  {
   "cell_type": "code",
   "execution_count": null,
   "id": "running-gazette",
   "metadata": {},
   "outputs": [],
   "source": []
  },
  {
   "cell_type": "code",
   "execution_count": 101,
   "id": "placed-shaft",
   "metadata": {},
   "outputs": [],
   "source": [
    "# Yield -> return과 비슷 제너레이터를 반환\n",
    "def my_func():\n",
    "    print(\"my_func \")\n",
    "    mylist = range(3)\n",
    "    for i in mylist:\n",
    "        print(\"my_fun = \", i)\n",
    "        yield i + 1 # 제너레이터 형태로 리턴"
   ]
  },
  {
   "cell_type": "code",
   "execution_count": 102,
   "id": "disturbed-collectible",
   "metadata": {},
   "outputs": [
    {
     "name": "stdout",
     "output_type": "stream",
     "text": [
      "<generator object my_func at 0x00000224B83C3E08>\n"
     ]
    }
   ],
   "source": [
    "mygen = my_func()\n",
    "print(mygen)"
   ]
  },
  {
   "cell_type": "code",
   "execution_count": 103,
   "id": "nonprofit-watch",
   "metadata": {},
   "outputs": [
    {
     "name": "stdout",
     "output_type": "stream",
     "text": [
      "my_func \n",
      "my_fun =  0\n",
      "i=  1\n",
      "my_fun =  1\n",
      "i=  2\n",
      "my_fun =  2\n",
      "i=  3\n"
     ]
    }
   ],
   "source": [
    "for i in mygen:\n",
    "    print(\"i= \", i)"
   ]
  },
  {
   "cell_type": "markdown",
   "id": "modified-impression",
   "metadata": {},
   "source": [
    "### 10. try exception 예외 처리"
   ]
  },
  {
   "cell_type": "code",
   "execution_count": 1,
   "id": "divided-oklahoma",
   "metadata": {},
   "outputs": [
    {
     "name": "stdout",
     "output_type": "stream",
     "text": [
      "숫자를 입력: 3\n"
     ]
    },
    {
     "ename": "KeyboardInterrupt",
     "evalue": "",
     "output_type": "error",
     "traceback": [
      "\u001b[1;31m---------------------------------------------------------------------------\u001b[0m",
      "\u001b[1;31mKeyboardInterrupt\u001b[0m                         Traceback (most recent call last)",
      "\u001b[1;32m~\\AppData\\Local\\Programs\\Python\\Python35\\lib\\site-packages\\ipykernel\\kernelbase.py\u001b[0m in \u001b[0;36m_input_request\u001b[1;34m(self, prompt, ident, parent, password)\u001b[0m\n\u001b[0;32m    877\u001b[0m             \u001b[1;32mtry\u001b[0m\u001b[1;33m:\u001b[0m\u001b[1;33m\u001b[0m\u001b[0m\n\u001b[1;32m--> 878\u001b[1;33m                 \u001b[0mident\u001b[0m\u001b[1;33m,\u001b[0m \u001b[0mreply\u001b[0m \u001b[1;33m=\u001b[0m \u001b[0mself\u001b[0m\u001b[1;33m.\u001b[0m\u001b[0msession\u001b[0m\u001b[1;33m.\u001b[0m\u001b[0mrecv\u001b[0m\u001b[1;33m(\u001b[0m\u001b[0mself\u001b[0m\u001b[1;33m.\u001b[0m\u001b[0mstdin_socket\u001b[0m\u001b[1;33m,\u001b[0m \u001b[1;36m0\u001b[0m\u001b[1;33m)\u001b[0m\u001b[1;33m\u001b[0m\u001b[0m\n\u001b[0m\u001b[0;32m    879\u001b[0m             \u001b[1;32mexcept\u001b[0m \u001b[0mException\u001b[0m\u001b[1;33m:\u001b[0m\u001b[1;33m\u001b[0m\u001b[0m\n",
      "\u001b[1;32m~\\AppData\\Local\\Programs\\Python\\Python35\\lib\\site-packages\\jupyter_client\\session.py\u001b[0m in \u001b[0;36mrecv\u001b[1;34m(self, socket, mode, content, copy)\u001b[0m\n\u001b[0;32m    806\u001b[0m         \u001b[1;32mtry\u001b[0m\u001b[1;33m:\u001b[0m\u001b[1;33m\u001b[0m\u001b[0m\n\u001b[1;32m--> 807\u001b[1;33m             \u001b[0mmsg_list\u001b[0m \u001b[1;33m=\u001b[0m \u001b[0msocket\u001b[0m\u001b[1;33m.\u001b[0m\u001b[0mrecv_multipart\u001b[0m\u001b[1;33m(\u001b[0m\u001b[0mmode\u001b[0m\u001b[1;33m,\u001b[0m \u001b[0mcopy\u001b[0m\u001b[1;33m=\u001b[0m\u001b[0mcopy\u001b[0m\u001b[1;33m)\u001b[0m\u001b[1;33m\u001b[0m\u001b[0m\n\u001b[0m\u001b[0;32m    808\u001b[0m         \u001b[1;32mexcept\u001b[0m \u001b[0mzmq\u001b[0m\u001b[1;33m.\u001b[0m\u001b[0mZMQError\u001b[0m \u001b[1;32mas\u001b[0m \u001b[0me\u001b[0m\u001b[1;33m:\u001b[0m\u001b[1;33m\u001b[0m\u001b[0m\n",
      "\u001b[1;32m~\\AppData\\Local\\Programs\\Python\\Python35\\lib\\site-packages\\zmq\\sugar\\socket.py\u001b[0m in \u001b[0;36mrecv_multipart\u001b[1;34m(self, flags, copy, track)\u001b[0m\n\u001b[0;32m    469\u001b[0m         \"\"\"\n\u001b[1;32m--> 470\u001b[1;33m         \u001b[0mparts\u001b[0m \u001b[1;33m=\u001b[0m \u001b[1;33m[\u001b[0m\u001b[0mself\u001b[0m\u001b[1;33m.\u001b[0m\u001b[0mrecv\u001b[0m\u001b[1;33m(\u001b[0m\u001b[0mflags\u001b[0m\u001b[1;33m,\u001b[0m \u001b[0mcopy\u001b[0m\u001b[1;33m=\u001b[0m\u001b[0mcopy\u001b[0m\u001b[1;33m,\u001b[0m \u001b[0mtrack\u001b[0m\u001b[1;33m=\u001b[0m\u001b[0mtrack\u001b[0m\u001b[1;33m)\u001b[0m\u001b[1;33m]\u001b[0m\u001b[1;33m\u001b[0m\u001b[0m\n\u001b[0m\u001b[0;32m    471\u001b[0m         \u001b[1;31m# have first part already, only loop while more to receive\u001b[0m\u001b[1;33m\u001b[0m\u001b[1;33m\u001b[0m\u001b[0m\n",
      "\u001b[1;32mzmq\\backend\\cython\\socket.pyx\u001b[0m in \u001b[0;36mzmq.backend.cython.socket.Socket.recv\u001b[1;34m()\u001b[0m\n",
      "\u001b[1;32mzmq\\backend\\cython\\socket.pyx\u001b[0m in \u001b[0;36mzmq.backend.cython.socket.Socket.recv\u001b[1;34m()\u001b[0m\n",
      "\u001b[1;32mzmq\\backend\\cython\\socket.pyx\u001b[0m in \u001b[0;36mzmq.backend.cython.socket._recv_copy\u001b[1;34m()\u001b[0m\n",
      "\u001b[1;32m~\\AppData\\Local\\Programs\\Python\\Python35\\lib\\site-packages\\zmq\\backend\\cython\\checkrc.pxd\u001b[0m in \u001b[0;36mzmq.backend.cython.checkrc._check_rc\u001b[1;34m()\u001b[0m\n",
      "\u001b[1;31mKeyboardInterrupt\u001b[0m: ",
      "\nDuring handling of the above exception, another exception occurred:\n",
      "\u001b[1;31mKeyboardInterrupt\u001b[0m                         Traceback (most recent call last)",
      "\u001b[1;32m<ipython-input-1-8332049de051>\u001b[0m in \u001b[0;36m<module>\u001b[1;34m\u001b[0m\n\u001b[0;32m      1\u001b[0m \u001b[1;32mwhile\u001b[0m \u001b[1;32mTrue\u001b[0m\u001b[1;33m:\u001b[0m\u001b[1;33m\u001b[0m\u001b[0m\n\u001b[0;32m      2\u001b[0m     \u001b[1;32mtry\u001b[0m\u001b[1;33m:\u001b[0m\u001b[1;33m\u001b[0m\u001b[0m\n\u001b[1;32m----> 3\u001b[1;33m         \u001b[0mx\u001b[0m \u001b[1;33m=\u001b[0m \u001b[0mint\u001b[0m\u001b[1;33m(\u001b[0m\u001b[0minput\u001b[0m\u001b[1;33m(\u001b[0m\u001b[1;34m\"숫자를 입력: \"\u001b[0m\u001b[1;33m)\u001b[0m\u001b[1;33m)\u001b[0m\u001b[1;33m\u001b[0m\u001b[0m\n\u001b[0m\u001b[0;32m      4\u001b[0m         \u001b[0mprint\u001b[0m\u001b[1;33m(\u001b[0m\u001b[1;34m\"입력 숫자는= \"\u001b[0m\u001b[1;33m,\u001b[0m \u001b[0mx\u001b[0m\u001b[1;33m)\u001b[0m\u001b[1;33m\u001b[0m\u001b[0m\n\u001b[0;32m      5\u001b[0m     \u001b[1;32mexcept\u001b[0m \u001b[0mValueError\u001b[0m\u001b[1;33m:\u001b[0m\u001b[1;33m\u001b[0m\u001b[0m\n",
      "\u001b[1;32m~\\AppData\\Local\\Programs\\Python\\Python35\\lib\\site-packages\\ipykernel\\kernelbase.py\u001b[0m in \u001b[0;36mraw_input\u001b[1;34m(self, prompt)\u001b[0m\n\u001b[0;32m    851\u001b[0m             \u001b[0mself\u001b[0m\u001b[1;33m.\u001b[0m\u001b[0m_parent_ident\u001b[0m\u001b[1;33m,\u001b[0m\u001b[1;33m\u001b[0m\u001b[0m\n\u001b[0;32m    852\u001b[0m             \u001b[0mself\u001b[0m\u001b[1;33m.\u001b[0m\u001b[0m_parent_header\u001b[0m\u001b[1;33m,\u001b[0m\u001b[1;33m\u001b[0m\u001b[0m\n\u001b[1;32m--> 853\u001b[1;33m             \u001b[0mpassword\u001b[0m\u001b[1;33m=\u001b[0m\u001b[1;32mFalse\u001b[0m\u001b[1;33m,\u001b[0m\u001b[1;33m\u001b[0m\u001b[0m\n\u001b[0m\u001b[0;32m    854\u001b[0m         )\n\u001b[0;32m    855\u001b[0m \u001b[1;33m\u001b[0m\u001b[0m\n",
      "\u001b[1;32m~\\AppData\\Local\\Programs\\Python\\Python35\\lib\\site-packages\\ipykernel\\kernelbase.py\u001b[0m in \u001b[0;36m_input_request\u001b[1;34m(self, prompt, ident, parent, password)\u001b[0m\n\u001b[0;32m    881\u001b[0m             \u001b[1;32mexcept\u001b[0m \u001b[0mKeyboardInterrupt\u001b[0m\u001b[1;33m:\u001b[0m\u001b[1;33m\u001b[0m\u001b[0m\n\u001b[0;32m    882\u001b[0m                 \u001b[1;31m# re-raise KeyboardInterrupt, to truncate traceback\u001b[0m\u001b[1;33m\u001b[0m\u001b[1;33m\u001b[0m\u001b[0m\n\u001b[1;32m--> 883\u001b[1;33m                 \u001b[1;32mraise\u001b[0m \u001b[0mKeyboardInterrupt\u001b[0m\u001b[1;33m\u001b[0m\u001b[0m\n\u001b[0m\u001b[0;32m    884\u001b[0m             \u001b[1;32melse\u001b[0m\u001b[1;33m:\u001b[0m\u001b[1;33m\u001b[0m\u001b[0m\n\u001b[0;32m    885\u001b[0m                 \u001b[1;32mbreak\u001b[0m\u001b[1;33m\u001b[0m\u001b[0m\n",
      "\u001b[1;31mKeyboardInterrupt\u001b[0m: "
     ]
    }
   ],
   "source": [
    "while True:\n",
    "    try:\n",
    "        x = int(input(\"숫자를 입력: \"))\n",
    "        print(\"입력 숫자는= \", x)\n",
    "    except ValueError:\n",
    "        print(\"문자 입력 오류\")"
   ]
  },
  {
   "cell_type": "code",
   "execution_count": null,
   "id": "embedded-restaurant",
   "metadata": {},
   "outputs": [],
   "source": []
  },
  {
   "cell_type": "code",
   "execution_count": 3,
   "id": "russian-navigation",
   "metadata": {},
   "outputs": [
    {
     "data": {
      "text/plain": [
       "{'check': None, 'id': 21, 'name': '홍길동'}"
      ]
     },
     "execution_count": 3,
     "metadata": {},
     "output_type": "execute_result"
    }
   ],
   "source": [
    "student = {'name': '홍길동',\n",
    "          'id': 21,\n",
    "          'check': None};\n",
    "student"
   ]
  },
  {
   "cell_type": "code",
   "execution_count": 5,
   "id": "right-learning",
   "metadata": {},
   "outputs": [
    {
     "ename": "KeyError",
     "evalue": "'last_name'",
     "output_type": "error",
     "traceback": [
      "\u001b[1;31m---------------------------------------------------------------------------\u001b[0m",
      "\u001b[1;31mKeyError\u001b[0m                                  Traceback (most recent call last)",
      "\u001b[1;32m<ipython-input-5-2eac1f92a9f1>\u001b[0m in \u001b[0;36m<module>\u001b[1;34m\u001b[0m\n\u001b[1;32m----> 1\u001b[1;33m \u001b[0mlast_name\u001b[0m \u001b[1;33m=\u001b[0m \u001b[0mstudent\u001b[0m\u001b[1;33m[\u001b[0m\u001b[1;34m\"last_name\"\u001b[0m\u001b[1;33m]\u001b[0m\u001b[1;33m\u001b[0m\u001b[0m\n\u001b[0m\u001b[0;32m      2\u001b[0m \u001b[0mno\u001b[0m \u001b[1;33m=\u001b[0m \u001b[0mlast_name\u001b[0m \u001b[1;33m+\u001b[0m \u001b[1;36m3\u001b[0m\u001b[1;33m\u001b[0m\u001b[0m\n\u001b[0;32m      3\u001b[0m \u001b[0mno\u001b[0m\u001b[1;33m\u001b[0m\u001b[0m\n",
      "\u001b[1;31mKeyError\u001b[0m: 'last_name'"
     ]
    }
   ],
   "source": [
    "last_name = student[\"last_name\"]\n",
    "no = last_name + 3\n",
    "no"
   ]
  },
  {
   "cell_type": "code",
   "execution_count": 7,
   "id": "scientific-radius",
   "metadata": {},
   "outputs": [
    {
     "name": "stdout",
     "output_type": "stream",
     "text": [
      "Key error\n"
     ]
    }
   ],
   "source": [
    "try:\n",
    "    last_name = student[\"last_name\"]\n",
    "    no = last_name + 3\n",
    "    no\n",
    "except KeyError:\n",
    "    print(\"Key error\")\n",
    "except TypeError as error:\n",
    "    print(\"TypeError\")\n",
    "except Exception:\n",
    "    print(\"Unknown error\")"
   ]
  },
  {
   "cell_type": "code",
   "execution_count": 31,
   "id": "plain-water",
   "metadata": {},
   "outputs": [],
   "source": [
    "def divide(x,y):\n",
    "    try:\n",
    "        result = x/y\n",
    "    except ZeroDivisionError:\n",
    "        print(\"0으로 나눌 수 없음\")\n",
    "    except TypeError:\n",
    "        print(\"Type Error\")\n",
    "    else:\n",
    "        print(\"결과는 = \", result)\n",
    "    finally:\n",
    "        print(\"마지막 실행문\")"
   ]
  },
  {
   "cell_type": "code",
   "execution_count": 32,
   "id": "focused-connecticut",
   "metadata": {},
   "outputs": [
    {
     "name": "stdout",
     "output_type": "stream",
     "text": [
      "결과는 =  2.0\n",
      "마지막 실행문\n"
     ]
    }
   ],
   "source": [
    "divide(2,1)"
   ]
  },
  {
   "cell_type": "code",
   "execution_count": 33,
   "id": "orange-bulgaria",
   "metadata": {},
   "outputs": [
    {
     "name": "stdout",
     "output_type": "stream",
     "text": [
      "0으로 나눌 수 없음\n",
      "마지막 실행문\n"
     ]
    }
   ],
   "source": [
    "divide(3,0) # ZeroDivisionError 발생"
   ]
  },
  {
   "cell_type": "code",
   "execution_count": 34,
   "id": "cloudy-parameter",
   "metadata": {},
   "outputs": [
    {
     "name": "stdout",
     "output_type": "stream",
     "text": [
      "Type Error\n",
      "마지막 실행문\n"
     ]
    }
   ],
   "source": [
    "divide(\"2\", \"1\") # TypeError 발생"
   ]
  },
  {
   "cell_type": "code",
   "execution_count": null,
   "id": "invisible-paper",
   "metadata": {},
   "outputs": [],
   "source": []
  }
 ],
 "metadata": {
  "kernelspec": {
   "display_name": "Python 3",
   "language": "python",
   "name": "python3"
  },
  "language_info": {
   "codemirror_mode": {
    "name": "ipython",
    "version": 3
   },
   "file_extension": ".py",
   "mimetype": "text/x-python",
   "name": "python",
   "nbconvert_exporter": "python",
   "pygments_lexer": "ipython3",
   "version": "3.5.2rc1"
  }
 },
 "nbformat": 4,
 "nbformat_minor": 5
}
