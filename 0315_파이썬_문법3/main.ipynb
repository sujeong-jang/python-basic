{
 "cells": [
  {
   "cell_type": "code",
   "execution_count": 1,
   "id": "based-phrase",
   "metadata": {},
   "outputs": [
    {
     "name": "stdout",
     "output_type": "stream",
     "text": [
      "모듈 시작\n",
      "py __name__:  __main__\n",
      "모듈 끝\n"
     ]
    }
   ],
   "source": [
    "if __name__ == \"__main__\": # __name__: 파이썬이 기본으로 제공해주는 시스템 변수\n",
    "    print(\"모듈 시작\")\n",
    "    print(\"py __name__: \", __name__)\n",
    "    print(\"모듈 끝\")\n",
    "\n",
    "else:\n",
    "    print(\"다른모듈에서 import해서 사용\")\n",
    "    print(\"import __name__: \", __name__)"
   ]
  },
  {
   "cell_type": "code",
   "execution_count": 2,
   "id": "hairy-bermuda",
   "metadata": {},
   "outputs": [
    {
     "name": "stdout",
     "output_type": "stream",
     "text": [
      "모듈 시작\n",
      "py __name__:  __main__\n",
      "모듈 끝\n"
     ]
    }
   ],
   "source": [
    "!python main.py"
   ]
  },
  {
   "cell_type": "code",
   "execution_count": null,
   "id": "nasty-landscape",
   "metadata": {},
   "outputs": [],
   "source": []
  }
 ],
 "metadata": {
  "kernelspec": {
   "display_name": "Python 3",
   "language": "python",
   "name": "python3"
  },
  "language_info": {
   "codemirror_mode": {
    "name": "ipython",
    "version": 3
   },
   "file_extension": ".py",
   "mimetype": "text/x-python",
   "name": "python",
   "nbconvert_exporter": "python",
   "pygments_lexer": "ipython3",
   "version": "3.5.2rc1"
  }
 },
 "nbformat": 4,
 "nbformat_minor": 5
}
