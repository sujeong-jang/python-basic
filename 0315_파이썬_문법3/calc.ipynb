{
 "cells": [
  {
   "cell_type": "code",
   "execution_count": null,
   "id": "alone-assault",
   "metadata": {},
   "outputs": [],
   "source": [
    "def add(a,b):\n",
    "    return a+b\n",
    "def mul(a,b):\n",
    "    return a*b\n",
    "def sub(a,b):\n",
    "    return a-b\n",
    "    \n",
    "if __name__ == \"__main__\":\n",
    "    print(\" ** main **\")\n",
    "    print(add(10, 20))\n",
    "    print(mul(10, 20))\n",
    "    print(sub(10, 20))"
   ]
  }
 ],
 "metadata": {
  "kernelspec": {
   "display_name": "Python 3",
   "language": "python",
   "name": "python3"
  },
  "language_info": {
   "codemirror_mode": {
    "name": "ipython",
    "version": 3
   },
   "file_extension": ".py",
   "mimetype": "text/x-python",
   "name": "python",
   "nbconvert_exporter": "python",
   "pygments_lexer": "ipython3",
   "version": "3.5.2rc1"
  }
 },
 "nbformat": 4,
 "nbformat_minor": 5
}
