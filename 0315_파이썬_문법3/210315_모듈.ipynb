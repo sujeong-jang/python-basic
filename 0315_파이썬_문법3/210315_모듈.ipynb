{
 "cells": [
  {
   "cell_type": "code",
   "execution_count": 18,
   "id": "fitted-kidney",
   "metadata": {},
   "outputs": [],
   "source": [
    "import mod1 # 같은 폴더 내에 있다면 import 가능 (.py)"
   ]
  },
  {
   "cell_type": "code",
   "execution_count": 19,
   "id": "alternate-disabled",
   "metadata": {},
   "outputs": [
    {
     "name": "stdout",
     "output_type": "stream",
     "text": [
      "모듈 시작\n",
      "py __name__:  __main__\n",
      "모듈 끝\n"
     ]
    }
   ],
   "source": [
    "if __name__ == \"__main__\":\n",
    "    print(\"모듈 시작\")\n",
    "    print(\"py __name__: \", __name__)\n",
    "    print(\"모듈 끝\")\n",
    "\n",
    "else:\n",
    "    print(\"다른모듈에서 import해서 사용\")\n",
    "    print(\"import __name__: \", __name__)"
   ]
  },
  {
   "cell_type": "code",
   "execution_count": 20,
   "id": "vital-fantasy",
   "metadata": {},
   "outputs": [
    {
     "data": {
      "text/plain": [
       "10"
      ]
     },
     "execution_count": 20,
     "metadata": {},
     "output_type": "execute_result"
    }
   ],
   "source": [
    "a = mod1.MyClass()\n",
    "mod1.length"
   ]
  },
  {
   "cell_type": "code",
   "execution_count": 21,
   "id": "valuable-sellers",
   "metadata": {},
   "outputs": [
    {
     "data": {
      "text/plain": [
       "4"
      ]
     },
     "execution_count": 21,
     "metadata": {},
     "output_type": "execute_result"
    }
   ],
   "source": [
    "mod1.sum1(1,3)"
   ]
  },
  {
   "cell_type": "code",
   "execution_count": 22,
   "id": "decimal-aside",
   "metadata": {},
   "outputs": [
    {
     "data": {
      "text/plain": [
       "10"
      ]
     },
     "execution_count": 22,
     "metadata": {},
     "output_type": "execute_result"
    }
   ],
   "source": [
    "mod1.mult(2,5)"
   ]
  },
  {
   "cell_type": "code",
   "execution_count": null,
   "id": "capital-sociology",
   "metadata": {},
   "outputs": [],
   "source": []
  }
 ],
 "metadata": {
  "kernelspec": {
   "display_name": "Python 3",
   "language": "python",
   "name": "python3"
  },
  "language_info": {
   "codemirror_mode": {
    "name": "ipython",
    "version": 3
   },
   "file_extension": ".py",
   "mimetype": "text/x-python",
   "name": "python",
   "nbconvert_exporter": "python",
   "pygments_lexer": "ipython3",
   "version": "3.5.2rc1"
  }
 },
 "nbformat": 4,
 "nbformat_minor": 5
}
