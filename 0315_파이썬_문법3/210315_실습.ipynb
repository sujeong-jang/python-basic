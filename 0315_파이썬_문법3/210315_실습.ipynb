{
 "cells": [
  {
   "cell_type": "markdown",
   "id": "removable-prescription",
   "metadata": {},
   "source": [
    "### Pandas 실습\n",
    "성적을 dataframe으로 만들고 총점, 평균, 등급 구하기"
   ]
  },
  {
   "cell_type": "code",
   "execution_count": 32,
   "id": "determined-karma",
   "metadata": {},
   "outputs": [],
   "source": [
    "import pandas as pd"
   ]
  },
  {
   "cell_type": "code",
   "execution_count": 33,
   "id": "distributed-concentrate",
   "metadata": {},
   "outputs": [],
   "source": [
    "grade = pd.DataFrame({'국어':[76, 90, 64, 70, 98],\n",
    "                      '영어':[65,75,70,82,93],\n",
    "                      '수학':[80,98,62,84,85]})"
   ]
  },
  {
   "cell_type": "code",
   "execution_count": 34,
   "id": "proprietary-fortune",
   "metadata": {},
   "outputs": [],
   "source": [
    "# 행의 합 구하기\n",
    "sum = grade.sum(axis=1)\n",
    "mean = grade.mean(axis=1)"
   ]
  },
  {
   "cell_type": "code",
   "execution_count": 52,
   "id": "dimensional-architect",
   "metadata": {},
   "outputs": [
    {
     "data": {
      "text/html": [
       "<div>\n",
       "<style scoped>\n",
       "    .dataframe tbody tr th:only-of-type {\n",
       "        vertical-align: middle;\n",
       "    }\n",
       "\n",
       "    .dataframe tbody tr th {\n",
       "        vertical-align: top;\n",
       "    }\n",
       "\n",
       "    .dataframe thead th {\n",
       "        text-align: right;\n",
       "    }\n",
       "</style>\n",
       "<table border=\"1\" class=\"dataframe\">\n",
       "  <thead>\n",
       "    <tr style=\"text-align: right;\">\n",
       "      <th></th>\n",
       "      <th>국어</th>\n",
       "      <th>수학</th>\n",
       "      <th>영어</th>\n",
       "      <th>총점</th>\n",
       "      <th>평균</th>\n",
       "      <th>등급</th>\n",
       "    </tr>\n",
       "  </thead>\n",
       "  <tbody>\n",
       "    <tr>\n",
       "      <th>0</th>\n",
       "      <td>76</td>\n",
       "      <td>80</td>\n",
       "      <td>65</td>\n",
       "      <td>221</td>\n",
       "      <td>73.666667</td>\n",
       "      <td>C등급</td>\n",
       "    </tr>\n",
       "    <tr>\n",
       "      <th>1</th>\n",
       "      <td>90</td>\n",
       "      <td>98</td>\n",
       "      <td>75</td>\n",
       "      <td>263</td>\n",
       "      <td>87.666667</td>\n",
       "      <td>B등급</td>\n",
       "    </tr>\n",
       "    <tr>\n",
       "      <th>2</th>\n",
       "      <td>64</td>\n",
       "      <td>62</td>\n",
       "      <td>70</td>\n",
       "      <td>196</td>\n",
       "      <td>65.333333</td>\n",
       "      <td>C등급</td>\n",
       "    </tr>\n",
       "    <tr>\n",
       "      <th>3</th>\n",
       "      <td>70</td>\n",
       "      <td>84</td>\n",
       "      <td>82</td>\n",
       "      <td>236</td>\n",
       "      <td>78.666667</td>\n",
       "      <td>C등급</td>\n",
       "    </tr>\n",
       "    <tr>\n",
       "      <th>4</th>\n",
       "      <td>98</td>\n",
       "      <td>85</td>\n",
       "      <td>93</td>\n",
       "      <td>276</td>\n",
       "      <td>92.000000</td>\n",
       "      <td>A등급</td>\n",
       "    </tr>\n",
       "  </tbody>\n",
       "</table>\n",
       "</div>"
      ],
      "text/plain": [
       "   국어  수학  영어   총점         평균   등급\n",
       "0  76  80  65  221  73.666667  C등급\n",
       "1  90  98  75  263  87.666667  B등급\n",
       "2  64  62  70  196  65.333333  C등급\n",
       "3  70  84  82  236  78.666667  C등급\n",
       "4  98  85  93  276  92.000000  A등급"
      ]
     },
     "execution_count": 52,
     "metadata": {},
     "output_type": "execute_result"
    }
   ],
   "source": [
    "grade['총점'] = sum\n",
    "grade['평균'] = mean\n",
    "grade"
   ]
  },
  {
   "cell_type": "code",
   "execution_count": 44,
   "id": "frank-bulgaria",
   "metadata": {},
   "outputs": [
    {
     "data": {
      "text/plain": [
       "['C등급', 'B등급', 'C등급', 'C등급', 'A등급']"
      ]
     },
     "execution_count": 44,
     "metadata": {},
     "output_type": "execute_result"
    }
   ],
   "source": [
    "rank = []\n",
    "for i in grade['평균']:\n",
    "    if i >= 90:\n",
    "        rank.append('A등급')\n",
    "    elif i >= 80:\n",
    "        rank.append('B등급')\n",
    "    else:\n",
    "        rank.append('C등급')\n",
    "        \n",
    "rank"
   ]
  },
  {
   "cell_type": "code",
   "execution_count": 45,
   "id": "official-prefix",
   "metadata": {},
   "outputs": [
    {
     "data": {
      "text/html": [
       "<div>\n",
       "<style scoped>\n",
       "    .dataframe tbody tr th:only-of-type {\n",
       "        vertical-align: middle;\n",
       "    }\n",
       "\n",
       "    .dataframe tbody tr th {\n",
       "        vertical-align: top;\n",
       "    }\n",
       "\n",
       "    .dataframe thead th {\n",
       "        text-align: right;\n",
       "    }\n",
       "</style>\n",
       "<table border=\"1\" class=\"dataframe\">\n",
       "  <thead>\n",
       "    <tr style=\"text-align: right;\">\n",
       "      <th></th>\n",
       "      <th>국어</th>\n",
       "      <th>수학</th>\n",
       "      <th>영어</th>\n",
       "      <th>총점</th>\n",
       "      <th>평균</th>\n",
       "      <th>등급</th>\n",
       "    </tr>\n",
       "  </thead>\n",
       "  <tbody>\n",
       "    <tr>\n",
       "      <th>0</th>\n",
       "      <td>76</td>\n",
       "      <td>80</td>\n",
       "      <td>65</td>\n",
       "      <td>221</td>\n",
       "      <td>73.666667</td>\n",
       "      <td>C등급</td>\n",
       "    </tr>\n",
       "    <tr>\n",
       "      <th>1</th>\n",
       "      <td>90</td>\n",
       "      <td>98</td>\n",
       "      <td>75</td>\n",
       "      <td>263</td>\n",
       "      <td>87.666667</td>\n",
       "      <td>B등급</td>\n",
       "    </tr>\n",
       "    <tr>\n",
       "      <th>2</th>\n",
       "      <td>64</td>\n",
       "      <td>62</td>\n",
       "      <td>70</td>\n",
       "      <td>196</td>\n",
       "      <td>65.333333</td>\n",
       "      <td>C등급</td>\n",
       "    </tr>\n",
       "    <tr>\n",
       "      <th>3</th>\n",
       "      <td>70</td>\n",
       "      <td>84</td>\n",
       "      <td>82</td>\n",
       "      <td>236</td>\n",
       "      <td>78.666667</td>\n",
       "      <td>C등급</td>\n",
       "    </tr>\n",
       "    <tr>\n",
       "      <th>4</th>\n",
       "      <td>98</td>\n",
       "      <td>85</td>\n",
       "      <td>93</td>\n",
       "      <td>276</td>\n",
       "      <td>92.000000</td>\n",
       "      <td>A등급</td>\n",
       "    </tr>\n",
       "  </tbody>\n",
       "</table>\n",
       "</div>"
      ],
      "text/plain": [
       "   국어  수학  영어   총점         평균   등급\n",
       "0  76  80  65  221  73.666667  C등급\n",
       "1  90  98  75  263  87.666667  B등급\n",
       "2  64  62  70  196  65.333333  C등급\n",
       "3  70  84  82  236  78.666667  C등급\n",
       "4  98  85  93  276  92.000000  A등급"
      ]
     },
     "execution_count": 45,
     "metadata": {},
     "output_type": "execute_result"
    }
   ],
   "source": [
    "grade['등급'] = rank\n",
    "grade"
   ]
  },
  {
   "cell_type": "code",
   "execution_count": null,
   "id": "cooperative-knowing",
   "metadata": {},
   "outputs": [],
   "source": []
  },
  {
   "cell_type": "code",
   "execution_count": 46,
   "id": "lucky-render",
   "metadata": {},
   "outputs": [],
   "source": [
    "# 열을 추가해서 만드려면 딕셔너리 사용\n",
    "dic_data = {'국어':[76, 90, 64, 70, 98],\n",
    "            '영어':[65,75,70,82,93],\n",
    "            '수학':[80,98,62,84,85]}\n",
    "df = pd.DataFrame(dic_data)"
   ]
  },
  {
   "cell_type": "code",
   "execution_count": 47,
   "id": "detailed-reunion",
   "metadata": {},
   "outputs": [
    {
     "data": {
      "text/html": [
       "<div>\n",
       "<style scoped>\n",
       "    .dataframe tbody tr th:only-of-type {\n",
       "        vertical-align: middle;\n",
       "    }\n",
       "\n",
       "    .dataframe tbody tr th {\n",
       "        vertical-align: top;\n",
       "    }\n",
       "\n",
       "    .dataframe thead th {\n",
       "        text-align: right;\n",
       "    }\n",
       "</style>\n",
       "<table border=\"1\" class=\"dataframe\">\n",
       "  <thead>\n",
       "    <tr style=\"text-align: right;\">\n",
       "      <th></th>\n",
       "      <th>국어</th>\n",
       "      <th>수학</th>\n",
       "      <th>영어</th>\n",
       "      <th>총점</th>\n",
       "    </tr>\n",
       "  </thead>\n",
       "  <tbody>\n",
       "    <tr>\n",
       "      <th>0</th>\n",
       "      <td>76</td>\n",
       "      <td>80</td>\n",
       "      <td>65</td>\n",
       "      <td>221</td>\n",
       "    </tr>\n",
       "    <tr>\n",
       "      <th>1</th>\n",
       "      <td>90</td>\n",
       "      <td>98</td>\n",
       "      <td>75</td>\n",
       "      <td>263</td>\n",
       "    </tr>\n",
       "    <tr>\n",
       "      <th>2</th>\n",
       "      <td>64</td>\n",
       "      <td>62</td>\n",
       "      <td>70</td>\n",
       "      <td>196</td>\n",
       "    </tr>\n",
       "    <tr>\n",
       "      <th>3</th>\n",
       "      <td>70</td>\n",
       "      <td>84</td>\n",
       "      <td>82</td>\n",
       "      <td>236</td>\n",
       "    </tr>\n",
       "    <tr>\n",
       "      <th>4</th>\n",
       "      <td>98</td>\n",
       "      <td>85</td>\n",
       "      <td>93</td>\n",
       "      <td>276</td>\n",
       "    </tr>\n",
       "  </tbody>\n",
       "</table>\n",
       "</div>"
      ],
      "text/plain": [
       "   국어  수학  영어   총점\n",
       "0  76  80  65  221\n",
       "1  90  98  75  263\n",
       "2  64  62  70  196\n",
       "3  70  84  82  236\n",
       "4  98  85  93  276"
      ]
     },
     "execution_count": 47,
     "metadata": {},
     "output_type": "execute_result"
    }
   ],
   "source": [
    "# 총점 구하기\n",
    "# 컬럼의 합\n",
    "df['총점'] = df['국어'] + df['영어'] + df['수학']\n",
    "df"
   ]
  },
  {
   "cell_type": "code",
   "execution_count": 54,
   "id": "endangered-helicopter",
   "metadata": {},
   "outputs": [
    {
     "data": {
      "text/html": [
       "<div>\n",
       "<style scoped>\n",
       "    .dataframe tbody tr th:only-of-type {\n",
       "        vertical-align: middle;\n",
       "    }\n",
       "\n",
       "    .dataframe tbody tr th {\n",
       "        vertical-align: top;\n",
       "    }\n",
       "\n",
       "    .dataframe thead th {\n",
       "        text-align: right;\n",
       "    }\n",
       "</style>\n",
       "<table border=\"1\" class=\"dataframe\">\n",
       "  <thead>\n",
       "    <tr style=\"text-align: right;\">\n",
       "      <th></th>\n",
       "      <th>국어</th>\n",
       "      <th>수학</th>\n",
       "      <th>영어</th>\n",
       "      <th>총점</th>\n",
       "      <th>평균</th>\n",
       "      <th>등급</th>\n",
       "      <th>등급1</th>\n",
       "    </tr>\n",
       "  </thead>\n",
       "  <tbody>\n",
       "    <tr>\n",
       "      <th>0</th>\n",
       "      <td>76</td>\n",
       "      <td>80</td>\n",
       "      <td>65</td>\n",
       "      <td>221</td>\n",
       "      <td>73.666667</td>\n",
       "      <td>B등급</td>\n",
       "      <td>B등급</td>\n",
       "    </tr>\n",
       "    <tr>\n",
       "      <th>1</th>\n",
       "      <td>90</td>\n",
       "      <td>98</td>\n",
       "      <td>75</td>\n",
       "      <td>263</td>\n",
       "      <td>87.666667</td>\n",
       "      <td>A등급</td>\n",
       "      <td>A등급</td>\n",
       "    </tr>\n",
       "    <tr>\n",
       "      <th>2</th>\n",
       "      <td>64</td>\n",
       "      <td>62</td>\n",
       "      <td>70</td>\n",
       "      <td>196</td>\n",
       "      <td>65.333333</td>\n",
       "      <td>C등급</td>\n",
       "      <td>C등급</td>\n",
       "    </tr>\n",
       "    <tr>\n",
       "      <th>3</th>\n",
       "      <td>70</td>\n",
       "      <td>84</td>\n",
       "      <td>82</td>\n",
       "      <td>236</td>\n",
       "      <td>78.666667</td>\n",
       "      <td>B등급</td>\n",
       "      <td>B등급</td>\n",
       "    </tr>\n",
       "    <tr>\n",
       "      <th>4</th>\n",
       "      <td>98</td>\n",
       "      <td>85</td>\n",
       "      <td>93</td>\n",
       "      <td>276</td>\n",
       "      <td>92.000000</td>\n",
       "      <td>S등급</td>\n",
       "      <td>S등급</td>\n",
       "    </tr>\n",
       "  </tbody>\n",
       "</table>\n",
       "</div>"
      ],
      "text/plain": [
       "   국어  수학  영어   총점         평균   등급  등급1\n",
       "0  76  80  65  221  73.666667  B등급  B등급\n",
       "1  90  98  75  263  87.666667  A등급  A등급\n",
       "2  64  62  70  196  65.333333  C등급  C등급\n",
       "3  70  84  82  236  78.666667  B등급  B등급\n",
       "4  98  85  93  276  92.000000  S등급  S등급"
      ]
     },
     "execution_count": 54,
     "metadata": {},
     "output_type": "execute_result"
    }
   ],
   "source": [
    "# 평균 구하기\n",
    "df['평균']= (df['국어'] + df['수학'] + df['영어']) / 3\n",
    "df"
   ]
  },
  {
   "cell_type": "code",
   "execution_count": 51,
   "id": "architectural-quilt",
   "metadata": {},
   "outputs": [
    {
     "data": {
      "text/html": [
       "<div>\n",
       "<style scoped>\n",
       "    .dataframe tbody tr th:only-of-type {\n",
       "        vertical-align: middle;\n",
       "    }\n",
       "\n",
       "    .dataframe tbody tr th {\n",
       "        vertical-align: top;\n",
       "    }\n",
       "\n",
       "    .dataframe thead th {\n",
       "        text-align: right;\n",
       "    }\n",
       "</style>\n",
       "<table border=\"1\" class=\"dataframe\">\n",
       "  <thead>\n",
       "    <tr style=\"text-align: right;\">\n",
       "      <th></th>\n",
       "      <th>국어</th>\n",
       "      <th>수학</th>\n",
       "      <th>영어</th>\n",
       "      <th>총점</th>\n",
       "      <th>평균</th>\n",
       "      <th>등급</th>\n",
       "    </tr>\n",
       "  </thead>\n",
       "  <tbody>\n",
       "    <tr>\n",
       "      <th>0</th>\n",
       "      <td>76</td>\n",
       "      <td>80</td>\n",
       "      <td>65</td>\n",
       "      <td>221</td>\n",
       "      <td>73.666667</td>\n",
       "      <td>B등급</td>\n",
       "    </tr>\n",
       "    <tr>\n",
       "      <th>1</th>\n",
       "      <td>90</td>\n",
       "      <td>98</td>\n",
       "      <td>75</td>\n",
       "      <td>263</td>\n",
       "      <td>87.666667</td>\n",
       "      <td>A등급</td>\n",
       "    </tr>\n",
       "    <tr>\n",
       "      <th>2</th>\n",
       "      <td>64</td>\n",
       "      <td>62</td>\n",
       "      <td>70</td>\n",
       "      <td>196</td>\n",
       "      <td>65.333333</td>\n",
       "      <td>C등급</td>\n",
       "    </tr>\n",
       "    <tr>\n",
       "      <th>3</th>\n",
       "      <td>70</td>\n",
       "      <td>84</td>\n",
       "      <td>82</td>\n",
       "      <td>236</td>\n",
       "      <td>78.666667</td>\n",
       "      <td>B등급</td>\n",
       "    </tr>\n",
       "    <tr>\n",
       "      <th>4</th>\n",
       "      <td>98</td>\n",
       "      <td>85</td>\n",
       "      <td>93</td>\n",
       "      <td>276</td>\n",
       "      <td>92.000000</td>\n",
       "      <td>S등급</td>\n",
       "    </tr>\n",
       "  </tbody>\n",
       "</table>\n",
       "</div>"
      ],
      "text/plain": [
       "   국어  수학  영어   총점         평균   등급\n",
       "0  76  80  65  221  73.666667  B등급\n",
       "1  90  98  75  263  87.666667  A등급\n",
       "2  64  62  70  196  65.333333  C등급\n",
       "3  70  84  82  236  78.666667  B등급\n",
       "4  98  85  93  276  92.000000  S등급"
      ]
     },
     "execution_count": 51,
     "metadata": {},
     "output_type": "execute_result"
    }
   ],
   "source": [
    "# 등급 구하는 방법1\n",
    "df['등급'] = \"\"\n",
    "for row in range(0, len(df)):\n",
    "    if df.iloc[row,4] >= 90:\n",
    "        df.iloc[row,5] = \"S등급\"\n",
    "    elif df.iloc[row,4] >= 80:\n",
    "        df.iloc[row,5] = \"A등급\"\n",
    "    elif df.iloc[row,4] >= 70:\n",
    "        df.iloc[row,5] = \"B등급\"\n",
    "    else:\n",
    "        df.iloc[row,5] = \"C등급\"\n",
    "df"
   ]
  },
  {
   "cell_type": "code",
   "execution_count": 53,
   "id": "backed-cherry",
   "metadata": {},
   "outputs": [
    {
     "data": {
      "text/html": [
       "<div>\n",
       "<style scoped>\n",
       "    .dataframe tbody tr th:only-of-type {\n",
       "        vertical-align: middle;\n",
       "    }\n",
       "\n",
       "    .dataframe tbody tr th {\n",
       "        vertical-align: top;\n",
       "    }\n",
       "\n",
       "    .dataframe thead th {\n",
       "        text-align: right;\n",
       "    }\n",
       "</style>\n",
       "<table border=\"1\" class=\"dataframe\">\n",
       "  <thead>\n",
       "    <tr style=\"text-align: right;\">\n",
       "      <th></th>\n",
       "      <th>국어</th>\n",
       "      <th>수학</th>\n",
       "      <th>영어</th>\n",
       "      <th>총점</th>\n",
       "      <th>평균</th>\n",
       "      <th>등급</th>\n",
       "      <th>등급1</th>\n",
       "    </tr>\n",
       "  </thead>\n",
       "  <tbody>\n",
       "    <tr>\n",
       "      <th>0</th>\n",
       "      <td>76</td>\n",
       "      <td>80</td>\n",
       "      <td>65</td>\n",
       "      <td>221</td>\n",
       "      <td>73.666667</td>\n",
       "      <td>B등급</td>\n",
       "      <td>B등급</td>\n",
       "    </tr>\n",
       "    <tr>\n",
       "      <th>1</th>\n",
       "      <td>90</td>\n",
       "      <td>98</td>\n",
       "      <td>75</td>\n",
       "      <td>263</td>\n",
       "      <td>87.666667</td>\n",
       "      <td>A등급</td>\n",
       "      <td>A등급</td>\n",
       "    </tr>\n",
       "    <tr>\n",
       "      <th>2</th>\n",
       "      <td>64</td>\n",
       "      <td>62</td>\n",
       "      <td>70</td>\n",
       "      <td>196</td>\n",
       "      <td>65.333333</td>\n",
       "      <td>C등급</td>\n",
       "      <td>C등급</td>\n",
       "    </tr>\n",
       "    <tr>\n",
       "      <th>3</th>\n",
       "      <td>70</td>\n",
       "      <td>84</td>\n",
       "      <td>82</td>\n",
       "      <td>236</td>\n",
       "      <td>78.666667</td>\n",
       "      <td>B등급</td>\n",
       "      <td>B등급</td>\n",
       "    </tr>\n",
       "    <tr>\n",
       "      <th>4</th>\n",
       "      <td>98</td>\n",
       "      <td>85</td>\n",
       "      <td>93</td>\n",
       "      <td>276</td>\n",
       "      <td>92.000000</td>\n",
       "      <td>S등급</td>\n",
       "      <td>S등급</td>\n",
       "    </tr>\n",
       "  </tbody>\n",
       "</table>\n",
       "</div>"
      ],
      "text/plain": [
       "   국어  수학  영어   총점         평균   등급  등급1\n",
       "0  76  80  65  221  73.666667  B등급  B등급\n",
       "1  90  98  75  263  87.666667  A등급  A등급\n",
       "2  64  62  70  196  65.333333  C등급  C등급\n",
       "3  70  84  82  236  78.666667  B등급  B등급\n",
       "4  98  85  93  276  92.000000  S등급  S등급"
      ]
     },
     "execution_count": 53,
     "metadata": {},
     "output_type": "execute_result"
    }
   ],
   "source": [
    "# 등급 구하는 방법2\n",
    "df.loc[df[\"평균\"] > 90, \"등급1\"] = \"S등급\"\n",
    "df.loc[(df[\"평균\"] > 80) & (df[\"평균\"] <= 90), \"등급1\"] = \"A등급\"\n",
    "df.loc[(df[\"평균\"] > 70) & (df[\"평균\"] <= 80), \"등급1\"] = \"B등급\"\n",
    "df.loc[(df[\"평균\"] <= 70), \"등급1\"] = \"C등급\"\n",
    "df"
   ]
  },
  {
   "cell_type": "code",
   "execution_count": null,
   "id": "disturbed-karen",
   "metadata": {},
   "outputs": [],
   "source": []
  },
  {
   "cell_type": "code",
   "execution_count": null,
   "id": "careful-treasury",
   "metadata": {},
   "outputs": [],
   "source": []
  },
  {
   "cell_type": "code",
   "execution_count": null,
   "id": "electronic-mount",
   "metadata": {},
   "outputs": [],
   "source": []
  },
  {
   "cell_type": "code",
   "execution_count": 57,
   "id": "intermediate-integral",
   "metadata": {},
   "outputs": [],
   "source": [
    "dict_data = {'국어':[76, 90, 64, 70, 98],\n",
    "                      '영어':[65,75,70,82,93],\n",
    "                      '수학':[80,98,62,84,85]}\n",
    "df1 = pd.DataFrame(dict_data)"
   ]
  },
  {
   "cell_type": "code",
   "execution_count": 59,
   "id": "continental-grave",
   "metadata": {},
   "outputs": [
    {
     "data": {
      "text/html": [
       "<div>\n",
       "<style scoped>\n",
       "    .dataframe tbody tr th:only-of-type {\n",
       "        vertical-align: middle;\n",
       "    }\n",
       "\n",
       "    .dataframe tbody tr th {\n",
       "        vertical-align: top;\n",
       "    }\n",
       "\n",
       "    .dataframe thead th {\n",
       "        text-align: right;\n",
       "    }\n",
       "</style>\n",
       "<table border=\"1\" class=\"dataframe\">\n",
       "  <thead>\n",
       "    <tr style=\"text-align: right;\">\n",
       "      <th></th>\n",
       "      <th>국어</th>\n",
       "      <th>수학</th>\n",
       "      <th>영어</th>\n",
       "      <th>총점</th>\n",
       "    </tr>\n",
       "  </thead>\n",
       "  <tbody>\n",
       "    <tr>\n",
       "      <th>0</th>\n",
       "      <td>76</td>\n",
       "      <td>80</td>\n",
       "      <td>65</td>\n",
       "      <td>221</td>\n",
       "    </tr>\n",
       "    <tr>\n",
       "      <th>1</th>\n",
       "      <td>90</td>\n",
       "      <td>98</td>\n",
       "      <td>75</td>\n",
       "      <td>263</td>\n",
       "    </tr>\n",
       "    <tr>\n",
       "      <th>2</th>\n",
       "      <td>64</td>\n",
       "      <td>62</td>\n",
       "      <td>70</td>\n",
       "      <td>196</td>\n",
       "    </tr>\n",
       "    <tr>\n",
       "      <th>3</th>\n",
       "      <td>70</td>\n",
       "      <td>84</td>\n",
       "      <td>82</td>\n",
       "      <td>236</td>\n",
       "    </tr>\n",
       "    <tr>\n",
       "      <th>4</th>\n",
       "      <td>98</td>\n",
       "      <td>85</td>\n",
       "      <td>93</td>\n",
       "      <td>276</td>\n",
       "    </tr>\n",
       "  </tbody>\n",
       "</table>\n",
       "</div>"
      ],
      "text/plain": [
       "   국어  수학  영어   총점\n",
       "0  76  80  65  221\n",
       "1  90  98  75  263\n",
       "2  64  62  70  196\n",
       "3  70  84  82  236\n",
       "4  98  85  93  276"
      ]
     },
     "execution_count": 59,
     "metadata": {},
     "output_type": "execute_result"
    }
   ],
   "source": [
    "df1['총점'] = df1['국어'] + df1['수학'] + df1['영어']\n",
    "df1"
   ]
  },
  {
   "cell_type": "code",
   "execution_count": 60,
   "id": "alone-gibson",
   "metadata": {},
   "outputs": [
    {
     "data": {
      "text/html": [
       "<div>\n",
       "<style scoped>\n",
       "    .dataframe tbody tr th:only-of-type {\n",
       "        vertical-align: middle;\n",
       "    }\n",
       "\n",
       "    .dataframe tbody tr th {\n",
       "        vertical-align: top;\n",
       "    }\n",
       "\n",
       "    .dataframe thead th {\n",
       "        text-align: right;\n",
       "    }\n",
       "</style>\n",
       "<table border=\"1\" class=\"dataframe\">\n",
       "  <thead>\n",
       "    <tr style=\"text-align: right;\">\n",
       "      <th></th>\n",
       "      <th>국어</th>\n",
       "      <th>수학</th>\n",
       "      <th>영어</th>\n",
       "      <th>총점</th>\n",
       "      <th>평균</th>\n",
       "    </tr>\n",
       "  </thead>\n",
       "  <tbody>\n",
       "    <tr>\n",
       "      <th>0</th>\n",
       "      <td>76</td>\n",
       "      <td>80</td>\n",
       "      <td>65</td>\n",
       "      <td>221</td>\n",
       "      <td>73.666667</td>\n",
       "    </tr>\n",
       "    <tr>\n",
       "      <th>1</th>\n",
       "      <td>90</td>\n",
       "      <td>98</td>\n",
       "      <td>75</td>\n",
       "      <td>263</td>\n",
       "      <td>87.666667</td>\n",
       "    </tr>\n",
       "    <tr>\n",
       "      <th>2</th>\n",
       "      <td>64</td>\n",
       "      <td>62</td>\n",
       "      <td>70</td>\n",
       "      <td>196</td>\n",
       "      <td>65.333333</td>\n",
       "    </tr>\n",
       "    <tr>\n",
       "      <th>3</th>\n",
       "      <td>70</td>\n",
       "      <td>84</td>\n",
       "      <td>82</td>\n",
       "      <td>236</td>\n",
       "      <td>78.666667</td>\n",
       "    </tr>\n",
       "    <tr>\n",
       "      <th>4</th>\n",
       "      <td>98</td>\n",
       "      <td>85</td>\n",
       "      <td>93</td>\n",
       "      <td>276</td>\n",
       "      <td>92.000000</td>\n",
       "    </tr>\n",
       "  </tbody>\n",
       "</table>\n",
       "</div>"
      ],
      "text/plain": [
       "   국어  수학  영어   총점         평균\n",
       "0  76  80  65  221  73.666667\n",
       "1  90  98  75  263  87.666667\n",
       "2  64  62  70  196  65.333333\n",
       "3  70  84  82  236  78.666667\n",
       "4  98  85  93  276  92.000000"
      ]
     },
     "execution_count": 60,
     "metadata": {},
     "output_type": "execute_result"
    }
   ],
   "source": [
    "df1['평균'] = (df1['국어'] + df1['수학'] + df1['영어']) / 3\n",
    "df1"
   ]
  },
  {
   "cell_type": "code",
   "execution_count": 65,
   "id": "independent-jacob",
   "metadata": {},
   "outputs": [
    {
     "data": {
      "text/html": [
       "<div>\n",
       "<style scoped>\n",
       "    .dataframe tbody tr th:only-of-type {\n",
       "        vertical-align: middle;\n",
       "    }\n",
       "\n",
       "    .dataframe tbody tr th {\n",
       "        vertical-align: top;\n",
       "    }\n",
       "\n",
       "    .dataframe thead th {\n",
       "        text-align: right;\n",
       "    }\n",
       "</style>\n",
       "<table border=\"1\" class=\"dataframe\">\n",
       "  <thead>\n",
       "    <tr style=\"text-align: right;\">\n",
       "      <th></th>\n",
       "      <th>국어</th>\n",
       "      <th>수학</th>\n",
       "      <th>영어</th>\n",
       "      <th>총점</th>\n",
       "      <th>평균</th>\n",
       "      <th>등급</th>\n",
       "      <th>등급1</th>\n",
       "    </tr>\n",
       "  </thead>\n",
       "  <tbody>\n",
       "    <tr>\n",
       "      <th>0</th>\n",
       "      <td>76</td>\n",
       "      <td>80</td>\n",
       "      <td>65</td>\n",
       "      <td>221</td>\n",
       "      <td>73.666667</td>\n",
       "      <td>B등급</td>\n",
       "      <td>B등급</td>\n",
       "    </tr>\n",
       "    <tr>\n",
       "      <th>1</th>\n",
       "      <td>90</td>\n",
       "      <td>98</td>\n",
       "      <td>75</td>\n",
       "      <td>263</td>\n",
       "      <td>87.666667</td>\n",
       "      <td>A등급</td>\n",
       "      <td>A등급</td>\n",
       "    </tr>\n",
       "    <tr>\n",
       "      <th>2</th>\n",
       "      <td>64</td>\n",
       "      <td>62</td>\n",
       "      <td>70</td>\n",
       "      <td>196</td>\n",
       "      <td>65.333333</td>\n",
       "      <td>C등급</td>\n",
       "      <td>C등급</td>\n",
       "    </tr>\n",
       "    <tr>\n",
       "      <th>3</th>\n",
       "      <td>70</td>\n",
       "      <td>84</td>\n",
       "      <td>82</td>\n",
       "      <td>236</td>\n",
       "      <td>78.666667</td>\n",
       "      <td>B등급</td>\n",
       "      <td>B등급</td>\n",
       "    </tr>\n",
       "    <tr>\n",
       "      <th>4</th>\n",
       "      <td>98</td>\n",
       "      <td>85</td>\n",
       "      <td>93</td>\n",
       "      <td>276</td>\n",
       "      <td>92.000000</td>\n",
       "      <td>S등급</td>\n",
       "      <td>S등급</td>\n",
       "    </tr>\n",
       "  </tbody>\n",
       "</table>\n",
       "</div>"
      ],
      "text/plain": [
       "   국어  수학  영어   총점         평균   등급  등급1\n",
       "0  76  80  65  221  73.666667  B등급  B등급\n",
       "1  90  98  75  263  87.666667  A등급  A등급\n",
       "2  64  62  70  196  65.333333  C등급  C등급\n",
       "3  70  84  82  236  78.666667  B등급  B등급\n",
       "4  98  85  93  276  92.000000  S등급  S등급"
      ]
     },
     "execution_count": 65,
     "metadata": {},
     "output_type": "execute_result"
    }
   ],
   "source": [
    "df1['등급'] = \"\"\n",
    "\n",
    "for row in range(0, len(df1)):\n",
    "    if df1.iloc[row, 4] > 90:\n",
    "        df1.iloc[row, 5] = 'S등급'\n",
    "    elif df1.iloc[row, 4] > 80:\n",
    "        df1.iloc[row, 5] = 'A등급'\n",
    "    elif df1.iloc[row, 4] > 70:\n",
    "        df1.iloc[row, 5] = 'B등급'\n",
    "    else:\n",
    "        df1.iloc[row, 5] = 'C등급'\n",
    "df1"
   ]
  },
  {
   "cell_type": "code",
   "execution_count": 66,
   "id": "fifteen-ballot",
   "metadata": {},
   "outputs": [
    {
     "data": {
      "text/html": [
       "<div>\n",
       "<style scoped>\n",
       "    .dataframe tbody tr th:only-of-type {\n",
       "        vertical-align: middle;\n",
       "    }\n",
       "\n",
       "    .dataframe tbody tr th {\n",
       "        vertical-align: top;\n",
       "    }\n",
       "\n",
       "    .dataframe thead th {\n",
       "        text-align: right;\n",
       "    }\n",
       "</style>\n",
       "<table border=\"1\" class=\"dataframe\">\n",
       "  <thead>\n",
       "    <tr style=\"text-align: right;\">\n",
       "      <th></th>\n",
       "      <th>국어</th>\n",
       "      <th>수학</th>\n",
       "      <th>영어</th>\n",
       "      <th>총점</th>\n",
       "      <th>평균</th>\n",
       "      <th>등급</th>\n",
       "      <th>등급1</th>\n",
       "    </tr>\n",
       "  </thead>\n",
       "  <tbody>\n",
       "    <tr>\n",
       "      <th>0</th>\n",
       "      <td>76</td>\n",
       "      <td>80</td>\n",
       "      <td>65</td>\n",
       "      <td>221</td>\n",
       "      <td>73.666667</td>\n",
       "      <td>B등급</td>\n",
       "      <td>B등급</td>\n",
       "    </tr>\n",
       "    <tr>\n",
       "      <th>1</th>\n",
       "      <td>90</td>\n",
       "      <td>98</td>\n",
       "      <td>75</td>\n",
       "      <td>263</td>\n",
       "      <td>87.666667</td>\n",
       "      <td>A등급</td>\n",
       "      <td>A등급</td>\n",
       "    </tr>\n",
       "    <tr>\n",
       "      <th>2</th>\n",
       "      <td>64</td>\n",
       "      <td>62</td>\n",
       "      <td>70</td>\n",
       "      <td>196</td>\n",
       "      <td>65.333333</td>\n",
       "      <td>C등급</td>\n",
       "      <td>C등급</td>\n",
       "    </tr>\n",
       "    <tr>\n",
       "      <th>3</th>\n",
       "      <td>70</td>\n",
       "      <td>84</td>\n",
       "      <td>82</td>\n",
       "      <td>236</td>\n",
       "      <td>78.666667</td>\n",
       "      <td>B등급</td>\n",
       "      <td>B등급</td>\n",
       "    </tr>\n",
       "    <tr>\n",
       "      <th>4</th>\n",
       "      <td>98</td>\n",
       "      <td>85</td>\n",
       "      <td>93</td>\n",
       "      <td>276</td>\n",
       "      <td>92.000000</td>\n",
       "      <td>S등급</td>\n",
       "      <td>S등급</td>\n",
       "    </tr>\n",
       "  </tbody>\n",
       "</table>\n",
       "</div>"
      ],
      "text/plain": [
       "   국어  수학  영어   총점         평균   등급  등급1\n",
       "0  76  80  65  221  73.666667  B등급  B등급\n",
       "1  90  98  75  263  87.666667  A등급  A등급\n",
       "2  64  62  70  196  65.333333  C등급  C등급\n",
       "3  70  84  82  236  78.666667  B등급  B등급\n",
       "4  98  85  93  276  92.000000  S등급  S등급"
      ]
     },
     "execution_count": 66,
     "metadata": {},
     "output_type": "execute_result"
    }
   ],
   "source": [
    "df1.loc[df1[\"평균\"] > 90, \"등급1\"] = \"S등급\"\n",
    "df1.loc[(df1[\"평균\"] > 80) & (df1[\"평균\"] <= 90), \"등급1\"] = \"A등급\"\n",
    "df1.loc[(df1[\"평균\"] > 70) & (df1[\"평균\"] <= 80), \"등급1\"] = \"B등급\"\n",
    "df1.loc[(df1[\"평균\"] <= 70), \"등급1\"] = \"C등급\"\n",
    "df1"
   ]
  },
  {
   "cell_type": "code",
   "execution_count": 67,
   "id": "essential-snake",
   "metadata": {},
   "outputs": [
    {
     "data": {
      "text/plain": [
       "(0    False\n",
       " 1    False\n",
       " 2    False\n",
       " 3    False\n",
       " 4     True\n",
       " Name: 평균, dtype: bool, '등급1')"
      ]
     },
     "execution_count": 67,
     "metadata": {},
     "output_type": "execute_result"
    }
   ],
   "source": [
    "df1[\"평균\"] > 90, \"등급1\""
   ]
  },
  {
   "cell_type": "code",
   "execution_count": null,
   "id": "weird-boulder",
   "metadata": {},
   "outputs": [],
   "source": []
  },
  {
   "cell_type": "code",
   "execution_count": 69,
   "id": "pointed-chicken",
   "metadata": {},
   "outputs": [
    {
     "name": "stdout",
     "output_type": "stream",
     "text": [
      "Welcome=  5\n",
      "Welcome=  4\n",
      "Welcome=  3\n",
      "Welcome=  2\n",
      "Welcome=  1\n",
      "While문 종료\n"
     ]
    }
   ],
   "source": [
    "count = 5\n",
    "while count > 0:\n",
    "    print(\"Welcome= \", count)\n",
    "    count -= 1\n",
    "else:\n",
    "    print(\"While문 종료\")"
   ]
  },
  {
   "cell_type": "code",
   "execution_count": 75,
   "id": "referenced-tomato",
   "metadata": {},
   "outputs": [
    {
     "data": {
      "text/plain": [
       "[1, 4, 9, 16, 25]"
      ]
     },
     "execution_count": 75,
     "metadata": {},
     "output_type": "execute_result"
    }
   ],
   "source": [
    "square = []\n",
    "num = list(range(1,6))\n",
    "for i in num:\n",
    "    square.append(i**2)\n",
    "square"
   ]
  },
  {
   "cell_type": "code",
   "execution_count": 76,
   "id": "checked-judges",
   "metadata": {},
   "outputs": [
    {
     "data": {
      "text/plain": [
       "[1, 4, 9, 16, 25]"
      ]
     },
     "execution_count": 76,
     "metadata": {},
     "output_type": "execute_result"
    }
   ],
   "source": [
    "# 위의 문장 축약\n",
    "square = [i**2 for i in num] # 결과를 list에 넣어줌\n",
    "square"
   ]
  },
  {
   "cell_type": "code",
   "execution_count": null,
   "id": "single-canon",
   "metadata": {},
   "outputs": [],
   "source": []
  },
  {
   "cell_type": "code",
   "execution_count": 77,
   "id": "smoking-tennessee",
   "metadata": {},
   "outputs": [
    {
     "data": {
      "text/plain": [
       "[9, 16, 25]"
      ]
     },
     "execution_count": 77,
     "metadata": {},
     "output_type": "execute_result"
    }
   ],
   "source": [
    "square = []\n",
    "for i in num:\n",
    "    if i >= 3:\n",
    "        square.append(i**2)\n",
    "square"
   ]
  },
  {
   "cell_type": "code",
   "execution_count": 80,
   "id": "answering-fiber",
   "metadata": {},
   "outputs": [
    {
     "data": {
      "text/plain": [
       "[9, 16, 25]"
      ]
     },
     "execution_count": 80,
     "metadata": {},
     "output_type": "execute_result"
    }
   ],
   "source": [
    "# 위의 문장 축약\n",
    "[i**2 for i in num if i >= 3]"
   ]
  },
  {
   "cell_type": "code",
   "execution_count": 86,
   "id": "confused-photographer",
   "metadata": {},
   "outputs": [
    {
     "ename": "SyntaxError",
     "evalue": "invalid syntax (<ipython-input-86-aa347edfeab4>, line 4)",
     "output_type": "error",
     "traceback": [
      "\u001b[1;36m  File \u001b[1;32m\"<ipython-input-86-aa347edfeab4>\"\u001b[1;36m, line \u001b[1;32m4\u001b[0m\n\u001b[1;33m    def pos_only_arg(arg, /): # 위치 매개변수만 사용 가능\u001b[0m\n\u001b[1;37m                          ^\u001b[0m\n\u001b[1;31mSyntaxError\u001b[0m\u001b[1;31m:\u001b[0m invalid syntax\n"
     ]
    }
   ],
   "source": [
    "def std_arg(arg):\n",
    "    print(\"1= \", arg)\n",
    "    \n",
    "def pos_only_arg(arg, /): # 위치 매개변수만 사용 가능\n",
    "    print(\"2= \", arg)\n",
    "    \n",
    "def kwd_only_arg(*, arg):\n",
    "    print(\"3= \", arg)\n",
    "\n",
    "def combined_arg(pos_only, /, standard, *, kwd_only):\n",
    "    print(\"3= \", pos_only, standard, kwd_only)"
   ]
  },
  {
   "cell_type": "code",
   "execution_count": 83,
   "id": "european-mercury",
   "metadata": {},
   "outputs": [
    {
     "ename": "NameError",
     "evalue": "name 'pos_only_arg' is not defined",
     "output_type": "error",
     "traceback": [
      "\u001b[1;31m----------------------------------------\u001b[0m",
      "\u001b[1;31mNameError\u001b[0mTraceback (most recent call last)",
      "\u001b[1;32m<ipython-input-83-bbb555849e09>\u001b[0m in \u001b[0;36m<module>\u001b[1;34m\u001b[0m\n\u001b[1;32m----> 1\u001b[1;33m \u001b[0mpos_only_arg\u001b[0m\u001b[1;33m(\u001b[0m\u001b[1;36m1\u001b[0m\u001b[1;33m)\u001b[0m\u001b[1;33m\u001b[0m\u001b[0m\n\u001b[0m",
      "\u001b[1;31mNameError\u001b[0m: name 'pos_only_arg' is not defined"
     ]
    }
   ],
   "source": [
    "pos_only_arg(1)"
   ]
  },
  {
   "cell_type": "code",
   "execution_count": 84,
   "id": "possible-generator",
   "metadata": {},
   "outputs": [
    {
     "ename": "SyntaxError",
     "evalue": "invalid syntax (<ipython-input-84-09a0059cf5cb>, line 1)",
     "output_type": "error",
     "traceback": [
      "\u001b[1;36m  File \u001b[1;32m\"<ipython-input-84-09a0059cf5cb>\"\u001b[1;36m, line \u001b[1;32m1\u001b[0m\n\u001b[1;33m    def kwd_only_arg(1)\u001b[0m\n\u001b[1;37m                     ^\u001b[0m\n\u001b[1;31mSyntaxError\u001b[0m\u001b[1;31m:\u001b[0m invalid syntax\n"
     ]
    }
   ],
   "source": [
    "kwd_only_arg(1)"
   ]
  },
  {
   "cell_type": "code",
   "execution_count": 87,
   "id": "aging-sheffield",
   "metadata": {},
   "outputs": [
    {
     "ename": "SyntaxError",
     "evalue": "invalid syntax (<ipython-input-87-80b79debca27>, line 1)",
     "output_type": "error",
     "traceback": [
      "\u001b[1;36m  File \u001b[1;32m\"<ipython-input-87-80b79debca27>\"\u001b[1;36m, line \u001b[1;32m1\u001b[0m\n\u001b[1;33m    kwd_only_arg(arg=1):\u001b[0m\n\u001b[1;37m                       ^\u001b[0m\n\u001b[1;31mSyntaxError\u001b[0m\u001b[1;31m:\u001b[0m invalid syntax\n"
     ]
    }
   ],
   "source": [
    "kwd_only_arg(arg=1):"
   ]
  },
  {
   "cell_type": "code",
   "execution_count": null,
   "id": "international-cambodia",
   "metadata": {},
   "outputs": [],
   "source": []
  },
  {
   "cell_type": "code",
   "execution_count": 90,
   "id": "banner-engineering",
   "metadata": {},
   "outputs": [],
   "source": [
    "# 현재 디렉터리에서 ipynb 파일명 가져오기"
   ]
  },
  {
   "cell_type": "code",
   "execution_count": 116,
   "id": "automatic-portugal",
   "metadata": {},
   "outputs": [
    {
     "ename": "IndexError",
     "evalue": "list index out of range",
     "output_type": "error",
     "traceback": [
      "\u001b[1;31m---------------------------------------------------------------------------\u001b[0m",
      "\u001b[1;31mIndexError\u001b[0m                                Traceback (most recent call last)",
      "\u001b[1;32m<ipython-input-116-03e0769713b3>\u001b[0m in \u001b[0;36m<module>\u001b[1;34m\u001b[0m\n\u001b[0;32m      6\u001b[0m \u001b[1;32mfor\u001b[0m \u001b[0mi\u001b[0m \u001b[1;32min\u001b[0m \u001b[0marr\u001b[0m\u001b[1;33m:\u001b[0m\u001b[1;33m\u001b[0m\u001b[0m\n\u001b[0;32m      7\u001b[0m     \u001b[0mprint\u001b[0m\u001b[1;33m(\u001b[0m\u001b[0mi\u001b[0m\u001b[1;33m)\u001b[0m\u001b[1;33m\u001b[0m\u001b[0m\n\u001b[1;32m----> 8\u001b[1;33m     \u001b[1;32mif\u001b[0m \u001b[0mi\u001b[0m\u001b[1;33m[\u001b[0m\u001b[1;36m1\u001b[0m\u001b[1;33m]\u001b[0m \u001b[1;33m==\u001b[0m \u001b[1;34m'ipynb'\u001b[0m\u001b[1;33m:\u001b[0m\u001b[1;33m\u001b[0m\u001b[0m\n\u001b[0m\u001b[0;32m      9\u001b[0m         \u001b[0mprint\u001b[0m\u001b[1;33m(\u001b[0m\u001b[0mi\u001b[0m\u001b[1;33m[\u001b[0m\u001b[1;36m0\u001b[0m\u001b[1;33m]\u001b[0m\u001b[1;33m)\u001b[0m\u001b[1;33m\u001b[0m\u001b[0m\n",
      "\u001b[1;31mIndexError\u001b[0m: list index out of range"
     ]
    },
    {
     "name": "stdout",
     "output_type": "stream",
     "text": [
      "['', 'ipynb_checkpoints']\n",
      "['210308_python_test', 'ipynb']\n",
      "210308_python_test\n",
      "['210309_python_기초', 'ipynb']\n",
      "210309_python_기초\n",
      "['210309_내장함수', 'ipynb']\n",
      "210309_내장함수\n",
      "['210309_파일_입출력', 'ipynb']\n",
      "210309_파일_입출력\n",
      "['210309_함수_모듈', 'ipynb']\n",
      "210309_함수_모듈\n",
      "['210310_Numpy', 'ipynb']\n",
      "210310_Numpy\n",
      "['210310_pandas', 'ipynb']\n",
      "210310_pandas\n",
      "['210310_pandas_데이터기초분석', 'ipynb']\n",
      "210310_pandas_데이터기초분석\n",
      "['210311_10minutes_pandas', 'ipynb']\n",
      "210311_10minutes_pandas\n",
      "['210311_matplotlib', 'ipynb']\n",
      "210311_matplotlib\n",
      "['210311_numpy', 'ipynb']\n",
      "210311_numpy\n",
      "['210311_numpy_quickstart', 'ipynb']\n",
      "210311_numpy_quickstart\n",
      "['210312_matplotlib_guide_tutorial', 'ipynb']\n",
      "210312_matplotlib_guide_tutorial\n",
      "['210312_seaborn', 'ipynb']\n",
      "210312_seaborn\n",
      "['210312_titanic_데이터전처리', 'ipynb']\n",
      "210312_titanic_데이터전처리\n",
      "['210312_실습문제풀이', 'ipynb']\n",
      "210312_실습문제풀이\n",
      "['210315_내장함수', 'ipynb']\n",
      "210315_내장함수\n",
      "['210315_모듈', 'ipynb']\n",
      "210315_모듈\n",
      "['210315_실습', 'ipynb']\n",
      "210315_실습\n",
      "['210315_클래스', 'ipynb']\n",
      "210315_클래스\n",
      "['archive', 'ics', 'uci', 'edu']\n",
      "['calc', 'ipynb']\n",
      "calc\n",
      "['calc', 'py']\n",
      "['excel_test', 'xlsx']\n",
      "['foo', 'csv']\n",
      "['fruit', 'csv']\n",
      "['fruit', 'txt']\n",
      "['fruit2', 'txt']\n",
      "['main', 'ipynb']\n",
      "main\n",
      "['main', 'py']\n",
      "['mod1', 'ipynb']\n",
      "mod1\n",
      "['mod1', 'py']\n",
      "['stinkbug', 'png']\n",
      "['titanic', 'jpg']\n",
      "['titanic_train', 'csv']\n",
      "['titles', 'csv']\n",
      "['Untitled', 'ipynb']\n",
      "Untitled\n",
      "['Untitled1', 'ipynb']\n",
      "Untitled1\n",
      "['Untitled2', 'ipynb']\n",
      "Untitled2\n",
      "['Untitled3', 'ipynb']\n",
      "Untitled3\n",
      "['Untitled4', 'ipynb']\n",
      "Untitled4\n",
      "['Untitled5', 'ipynb']\n",
      "Untitled5\n",
      "['winequality-red', 'csv']\n",
      "['__pycache__']\n"
     ]
    }
   ],
   "source": [
    "res = os.listdir()\n",
    "arr = []\n",
    "for file in res:\n",
    "    arr.append(file.split(\".\"))\n",
    "\n",
    "for i in arr:\n",
    "    if i[1] == 'ipynb':\n",
    "        print(i[0])"
   ]
  },
  {
   "cell_type": "code",
   "execution_count": null,
   "id": "limiting-underwear",
   "metadata": {},
   "outputs": [],
   "source": []
  },
  {
   "cell_type": "code",
   "execution_count": null,
   "id": "metric-winning",
   "metadata": {},
   "outputs": [],
   "source": []
  }
 ],
 "metadata": {
  "kernelspec": {
   "display_name": "Python 3",
   "language": "python",
   "name": "python3"
  },
  "language_info": {
   "codemirror_mode": {
    "name": "ipython",
    "version": 3
   },
   "file_extension": ".py",
   "mimetype": "text/x-python",
   "name": "python",
   "nbconvert_exporter": "python",
   "pygments_lexer": "ipython3",
   "version": "3.5.2rc1"
  }
 },
 "nbformat": 4,
 "nbformat_minor": 5
}
