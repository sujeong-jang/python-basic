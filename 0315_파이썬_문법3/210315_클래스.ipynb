{
 "cells": [
  {
   "cell_type": "markdown",
   "id": "signal-samuel",
   "metadata": {},
   "source": [
    "### Python class"
   ]
  },
  {
   "cell_type": "code",
   "execution_count": 1,
   "id": "circular-roulette",
   "metadata": {},
   "outputs": [],
   "source": [
    "class Calculator:\n",
    "    txt = \"문자\" # 변수\n",
    "    def sum1(self, a, b): # 메서드\n",
    "        c = a + b\n",
    "        return c"
   ]
  },
  {
   "cell_type": "code",
   "execution_count": 9,
   "id": "radical-writing",
   "metadata": {},
   "outputs": [
    {
     "data": {
      "text/plain": [
       "6"
      ]
     },
     "execution_count": 9,
     "metadata": {},
     "output_type": "execute_result"
    }
   ],
   "source": [
    "a = Calculator() # 인스턴스(객체) 생성\n",
    "a.sum1(2,4)"
   ]
  },
  {
   "cell_type": "code",
   "execution_count": 10,
   "id": "black-cinema",
   "metadata": {},
   "outputs": [],
   "source": [
    "class Family():\n",
    "    def father(self):\n",
    "        print(\"아빠\")\n",
    "    def mather(self):\n",
    "        print(\"엄마\")\n",
    "    def son(self):\n",
    "        print(\"아들\")\n",
    "class Look():\n",
    "    def hansome(self):\n",
    "        print(\"잘생겼다\")\n",
    "    def pretty(self):\n",
    "        print(\"이쁘다\")\n",
    "    def slim(self):\n",
    "        print(\"날씬하다\")"
   ]
  },
  {
   "cell_type": "code",
   "execution_count": 11,
   "id": "devoted-butterfly",
   "metadata": {},
   "outputs": [],
   "source": [
    "we = Family()"
   ]
  },
  {
   "cell_type": "code",
   "execution_count": 12,
   "id": "comparative-illustration",
   "metadata": {},
   "outputs": [
    {
     "name": "stdout",
     "output_type": "stream",
     "text": [
      "아빠\n"
     ]
    }
   ],
   "source": [
    "we.father()"
   ]
  },
  {
   "cell_type": "code",
   "execution_count": 13,
   "id": "flying-projector",
   "metadata": {},
   "outputs": [],
   "source": [
    "body = Look()"
   ]
  },
  {
   "cell_type": "code",
   "execution_count": 14,
   "id": "significant-conditioning",
   "metadata": {},
   "outputs": [
    {
     "name": "stdout",
     "output_type": "stream",
     "text": [
      "날씬하다\n"
     ]
    }
   ],
   "source": [
    "body.slim()"
   ]
  },
  {
   "cell_type": "code",
   "execution_count": 29,
   "id": "soviet-carol",
   "metadata": {},
   "outputs": [],
   "source": [
    "class father():\n",
    "    def handsome(self):\n",
    "        print(\"good\")\n",
    "        \n",
    "class brother(father):\n",
    "    \"\"\" 아들 \"\"\""
   ]
  },
  {
   "cell_type": "code",
   "execution_count": 30,
   "id": "comparable-glory",
   "metadata": {},
   "outputs": [
    {
     "name": "stdout",
     "output_type": "stream",
     "text": [
      "good\n"
     ]
    }
   ],
   "source": [
    "bro = brother()\n",
    "bro.handsome()"
   ]
  },
  {
   "cell_type": "code",
   "execution_count": 36,
   "id": "widespread-addiction",
   "metadata": {},
   "outputs": [],
   "source": [
    "class Father():\n",
    "    def handsome(self):\n",
    "        print(\"good\")\n",
    "\n",
    "class Sister(father): # 상속\n",
    "    def pretty(self):\n",
    "        print(\"예쁘다\")\n",
    "    def handsome(self):\n",
    "        self.pretty()\n",
    "\n",
    "girl = Sister()"
   ]
  },
  {
   "cell_type": "code",
   "execution_count": 37,
   "id": "about-blast",
   "metadata": {},
   "outputs": [
    {
     "name": "stdout",
     "output_type": "stream",
     "text": [
      "예쁘다\n"
     ]
    }
   ],
   "source": [
    "girl.pretty()"
   ]
  },
  {
   "cell_type": "code",
   "execution_count": 38,
   "id": "competitive-insight",
   "metadata": {},
   "outputs": [
    {
     "name": "stdout",
     "output_type": "stream",
     "text": [
      "예쁘다\n"
     ]
    }
   ],
   "source": [
    "girl.handsome() # 자식 클래스의 메서드가 호출됨"
   ]
  },
  {
   "cell_type": "code",
   "execution_count": 15,
   "id": "scientific-award",
   "metadata": {},
   "outputs": [],
   "source": [
    "class Employee:\n",
    "    def __init__(self, name, salary):\n",
    "        self.name = name\n",
    "        self.salary = salary\n",
    "    def displayCount(self):\n",
    "        print(\"hello\")"
   ]
  },
  {
   "cell_type": "code",
   "execution_count": 16,
   "id": "random-empty",
   "metadata": {},
   "outputs": [],
   "source": [
    "x = Employee(\"수정\", 30)"
   ]
  },
  {
   "cell_type": "code",
   "execution_count": 17,
   "id": "assured-lending",
   "metadata": {},
   "outputs": [
    {
     "data": {
      "text/plain": [
       "<__main__.Employee at 0x1d5215f5a58>"
      ]
     },
     "execution_count": 17,
     "metadata": {},
     "output_type": "execute_result"
    }
   ],
   "source": [
    "x"
   ]
  },
  {
   "cell_type": "code",
   "execution_count": 18,
   "id": "considered-crawford",
   "metadata": {},
   "outputs": [
    {
     "data": {
      "text/plain": [
       "'수정'"
      ]
     },
     "execution_count": 18,
     "metadata": {},
     "output_type": "execute_result"
    }
   ],
   "source": [
    "x.name"
   ]
  },
  {
   "cell_type": "code",
   "execution_count": 19,
   "id": "moved-science",
   "metadata": {},
   "outputs": [
    {
     "data": {
      "text/plain": [
       "30"
      ]
     },
     "execution_count": 19,
     "metadata": {},
     "output_type": "execute_result"
    }
   ],
   "source": [
    "x.salary"
   ]
  },
  {
   "cell_type": "code",
   "execution_count": 21,
   "id": "leading-training",
   "metadata": {},
   "outputs": [
    {
     "name": "stdout",
     "output_type": "stream",
     "text": [
      "hello\n"
     ]
    }
   ],
   "source": [
    "x.displayCount()"
   ]
  },
  {
   "cell_type": "code",
   "execution_count": null,
   "id": "imported-purse",
   "metadata": {},
   "outputs": [],
   "source": []
  }
 ],
 "metadata": {
  "kernelspec": {
   "display_name": "Python 3",
   "language": "python",
   "name": "python3"
  },
  "language_info": {
   "codemirror_mode": {
    "name": "ipython",
    "version": 3
   },
   "file_extension": ".py",
   "mimetype": "text/x-python",
   "name": "python",
   "nbconvert_exporter": "python",
   "pygments_lexer": "ipython3",
   "version": "3.5.2rc1"
  }
 },
 "nbformat": 4,
 "nbformat_minor": 5
}
