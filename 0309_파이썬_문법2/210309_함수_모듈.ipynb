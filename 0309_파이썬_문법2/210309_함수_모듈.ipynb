{
 "cells": [
  {
   "cell_type": "code",
   "execution_count": 4,
   "metadata": {},
   "outputs": [],
   "source": [
    "# def 함수명 (인자1, 인자2, ...):\n",
    "    # 수행할 문장 1\n",
    "    # 수행할 문장 2"
   ]
  },
  {
   "cell_type": "code",
   "execution_count": 5,
   "metadata": {},
   "outputs": [
    {
     "name": "stdout",
     "output_type": "stream",
     "text": [
      "4\n"
     ]
    }
   ],
   "source": [
    "def sum(a, b):\n",
    "    return a+b\n",
    "\n",
    "sum(1, 3)"
   ]
  },
  {
   "cell_type": "code",
   "execution_count": 9,
   "metadata": {},
   "outputs": [
    {
     "name": "stdout",
     "output_type": "stream",
     "text": [
      "args type:  (1, 2, 3, 4)\n",
      "10\n",
      "args type:  (1, 2, 3, 4, 5, 6)\n",
      "21\n"
     ]
    }
   ],
   "source": [
    "# 인자가 여러개 일 경우\n",
    "# def 함수명(*args): => 인자들을 튜플에 넣음\n",
    "def sum_many(*args):\n",
    "    print(\"args type: \", args)\n",
    "    sum = 0\n",
    "    for i in args:\n",
    "        sum += i\n",
    "    return sum\n",
    "\n",
    "print(sum_many(1,2,3,4))\n",
    "print(sum_many(1,2,3,4,5,6))"
   ]
  },
  {
   "cell_type": "code",
   "execution_count": 11,
   "metadata": {},
   "outputs": [
    {
     "name": "stdout",
     "output_type": "stream",
     "text": [
      "kwargs type:  <class 'dict'>\n",
      "('y', 200)\n",
      "('z', 'b')\n",
      "('x', 100)\n"
     ]
    }
   ],
   "source": [
    "def myfunc(**kwargs): # 인자들을 딕셔너리에 넣음\n",
    "    print(\"kwargs type: \", type(kwargs))\n",
    "    for item in kwargs.items():\n",
    "        print(item)\n",
    "myfunc(x=100, y=200, z=\"b\")"
   ]
  },
  {
   "cell_type": "code",
   "execution_count": null,
   "metadata": {},
   "outputs": [],
   "source": []
  }
 ],
 "metadata": {
  "kernelspec": {
   "display_name": "Python 3",
   "language": "python",
   "name": "python3"
  },
  "language_info": {
   "codemirror_mode": {
    "name": "ipython",
    "version": 3
   },
   "file_extension": ".py",
   "mimetype": "text/x-python",
   "name": "python",
   "nbconvert_exporter": "python",
   "pygments_lexer": "ipython3",
   "version": "3.5.2rc1"
  }
 },
 "nbformat": 4,
 "nbformat_minor": 2
}
