{
 "cells": [
  {
   "cell_type": "markdown",
   "metadata": {},
   "source": [
    "### 문자열 함수 복습"
   ]
  },
  {
   "cell_type": "code",
   "execution_count": 4,
   "metadata": {},
   "outputs": [
    {
     "data": {
      "text/plain": [
       "'960407'"
      ]
     },
     "execution_count": 4,
     "metadata": {},
     "output_type": "execute_result"
    }
   ],
   "source": [
    "# 주민등록번호 생년월일만 출력하기\n",
    "num = '960407-2123432'\n",
    "num[:6]"
   ]
  },
  {
   "cell_type": "code",
   "execution_count": 7,
   "metadata": {},
   "outputs": [
    {
     "data": {
      "text/plain": [
       "'960407'"
      ]
     },
     "execution_count": 7,
     "metadata": {},
     "output_type": "execute_result"
    }
   ],
   "source": [
    "num.split('-')[0]"
   ]
  },
  {
   "cell_type": "code",
   "execution_count": 10,
   "metadata": {},
   "outputs": [
    {
     "name": "stdout",
     "output_type": "stream",
     "text": [
      "20010331 Rainy\n"
     ]
    }
   ],
   "source": [
    "# 변수 a를 날짜는 date에, 기온은 wrather에 나누어 넣으시오\n",
    "a = '20010331Rainy'\n",
    "date = a[:8]\n",
    "weather = a[8:]\n",
    "print(date, weather)"
   ]
  },
  {
   "cell_type": "code",
   "execution_count": 14,
   "metadata": {},
   "outputs": [
    {
     "data": {
      "text/plain": [
       "'Python'"
      ]
     },
     "execution_count": 14,
     "metadata": {},
     "output_type": "execute_result"
    }
   ],
   "source": [
    "# pithon을 python으로 바꾸기\n",
    "a = 'Pithon'\n",
    "# a[1] = 'y' (X) string은 중간의 문자열을 변경할 수 없다\n",
    "a[:1] + \"y\" + a[2:]"
   ]
  },
  {
   "cell_type": "markdown",
   "metadata": {},
   "source": [
    "### 데이터 구조(리스트, 튜플, 딕셔너리) 복습"
   ]
  },
  {
   "cell_type": "code",
   "execution_count": 21,
   "metadata": {},
   "outputs": [
    {
     "data": {
      "text/plain": [
       "'Life'"
      ]
     },
     "execution_count": 21,
     "metadata": {},
     "output_type": "execute_result"
    }
   ],
   "source": [
    "# a 리스트에서 'Life' 값 추출\n",
    "a = [1, 2, ['a', 'b', ['Life', 'is']]]\n",
    "a[2][2][0]"
   ]
  },
  {
   "cell_type": "markdown",
   "metadata": {},
   "source": [
    "### 조건문\n",
    "1. if\n",
    "2. if else\n",
    "3. if elif else"
   ]
  },
  {
   "cell_type": "code",
   "execution_count": 22,
   "metadata": {},
   "outputs": [
    {
     "name": "stdout",
     "output_type": "stream",
     "text": [
      "거짓\n"
     ]
    }
   ],
   "source": [
    "# if (조건):\n",
    "a = 10; b = 20\n",
    "if(a==b):\n",
    "    print(\"참\")\n",
    "else:\n",
    "    print(\"거짓\")"
   ]
  },
  {
   "cell_type": "code",
   "execution_count": 23,
   "metadata": {},
   "outputs": [],
   "source": [
    "# 실습 문제\n",
    "# 점수를 화면에서 입력받아 처리하는 기능\n",
    "# 점수 > 90 : A\n",
    "# 90 > 점수 > 80 : B"
   ]
  },
  {
   "cell_type": "code",
   "execution_count": 30,
   "metadata": {},
   "outputs": [
    {
     "name": "stdout",
     "output_type": "stream",
     "text": [
      "점수는 몇 점?80\n",
      "C등급\n"
     ]
    }
   ],
   "source": [
    "score = int(input(\"점수는 몇 점? \"))\n",
    "\n",
    "if(score > 90):\n",
    "    print(\"A등급\")\n",
    "elif(score > 80):\n",
    "    print(\"B등급\")\n",
    "elif(score > 70):\n",
    "    print(\"C등급\")\n",
    "else:\n",
    "    print(\"D등급\")"
   ]
  },
  {
   "cell_type": "markdown",
   "metadata": {},
   "source": [
    "### 반복문\n",
    "1. for\n",
    "2. while"
   ]
  },
  {
   "cell_type": "code",
   "execution_count": 31,
   "metadata": {},
   "outputs": [],
   "source": [
    "# for (변수) in (반복횟수정보):\n",
    "    # 반복 실행문"
   ]
  },
  {
   "cell_type": "code",
   "execution_count": 32,
   "metadata": {},
   "outputs": [
    {
     "data": {
      "text/plain": [
       "[1, 2, 3, 4, 5, 6, 7, 8, 9]"
      ]
     },
     "execution_count": 32,
     "metadata": {},
     "output_type": "execute_result"
    }
   ],
   "source": [
    "list(range(1,10))"
   ]
  },
  {
   "cell_type": "code",
   "execution_count": 33,
   "metadata": {},
   "outputs": [
    {
     "name": "stdout",
     "output_type": "stream",
     "text": [
      "1\n",
      "2\n",
      "3\n",
      "4\n",
      "5\n",
      "6\n",
      "7\n",
      "8\n",
      "9\n"
     ]
    }
   ],
   "source": [
    "for i in range(1, 10): # in 뒤에는 iterable 객체만 올 수 있다\n",
    "    print(i)"
   ]
  },
  {
   "cell_type": "code",
   "execution_count": 34,
   "metadata": {},
   "outputs": [
    {
     "name": "stdout",
     "output_type": "stream",
     "text": [
      "apple\n",
      "banana\n",
      "cherry\n"
     ]
    }
   ],
   "source": [
    "fruit = ['apple', 'banana', 'cherry']\n",
    "for i in fruit:\n",
    "    print(i)"
   ]
  },
  {
   "cell_type": "code",
   "execution_count": 42,
   "metadata": {},
   "outputs": [
    {
     "name": "stdout",
     "output_type": "stream",
     "text": [
      "{'banana': 2000, 'apple': 3500, 'cherry': 2400}\n",
      "banana\n",
      "apple\n",
      "cherry\n",
      "2000\n",
      "3500\n",
      "2400\n",
      "과일명:  banana 가격:  2000\n",
      "과일명:  apple 가격:  3500\n",
      "과일명:  cherry 가격:  2400\n"
     ]
    }
   ],
   "source": [
    "fruit_price = {'apple': 3500, 'banana': 2000, 'cherry': 2400}\n",
    "print(fruit_price)\n",
    "\n",
    "for i in fruit_price.keys():\n",
    "    print(i)\n",
    "    \n",
    "for i in fruit_price.values():\n",
    "    print(i)\n",
    "    \n",
    "for i in fruit_price.items(): # 튜플로 반환\n",
    "    print(\"과일명: \", i[0], \"가격: \", i[1])"
   ]
  },
  {
   "cell_type": "code",
   "execution_count": 54,
   "metadata": {},
   "outputs": [
    {
     "name": "stdout",
     "output_type": "stream",
     "text": [
      "high_fruit:  ['apple'] 개수는?  10\n",
      "low_fruit:  ['banana', 'cherry'] 개수는?  33\n"
     ]
    }
   ],
   "source": [
    "# 3000원 보다 비싼과일과 아닌 과일 분류하기\n",
    "\n",
    "# 과일명을 저장할 빈 리스트 정의\n",
    "high_fruit = []\n",
    "low_fruit = []\n",
    "\n",
    "# 과일 개수를 저장할 변수 초기화\n",
    "high_count = 0\n",
    "low_count = 0\n",
    "fruit_price = {'apple': [3500, 10],\n",
    "               'banana': [2000, 20],\n",
    "               'cherry': [2400, 13] }\n",
    "for i in fruit_price.items():\n",
    "    if i[1][0] >= 3000:\n",
    "        high_fruit.append(i[0])\n",
    "        high_count += i[1][1]\n",
    "    else:\n",
    "        low_fruit.append(i[0])\n",
    "        low_count += i[1][1]\n",
    "        \n",
    "print(\"high_fruit: \", high_fruit, \"개수는? \", high_count)\n",
    "print(\"low_fruit: \", low_fruit, \"개수는? \", low_count)"
   ]
  },
  {
   "cell_type": "code",
   "execution_count": 55,
   "metadata": {},
   "outputs": [
    {
     "name": "stdout",
     "output_type": "stream",
     "text": [
      "Please enter = 12\n",
      "1보다 큰 수\n"
     ]
    }
   ],
   "source": [
    "x = int(input(\"Please enter = \"))\n",
    "if x < 0:\n",
    "    x = 0\n",
    "    print(\"0보다 작은 수\")\n",
    "elif x == 0:\n",
    "    print(\"0\")\n",
    "elif x == 1:\n",
    "    print (\"1\")\n",
    "else:\n",
    "    print (\"1보다 큰 수\")"
   ]
  },
  {
   "cell_type": "code",
   "execution_count": 62,
   "metadata": {},
   "outputs": [
    {
     "name": "stdout",
     "output_type": "stream",
     "text": [
      "과일명 banana 가격 2000\n",
      "과일명 apple 가격 3500\n",
      "과일명 cherry 가격 2400\n"
     ]
    }
   ],
   "source": [
    "fruit_price = {'apple': 3500, 'banana': 2000, 'cherry': 2400}\n",
    "for name, value in fruit_price.items():\n",
    "    print(\"과일명\", name, \"가격\", value)"
   ]
  },
  {
   "cell_type": "code",
   "execution_count": 64,
   "metadata": {},
   "outputs": [
    {
     "name": "stdout",
     "output_type": "stream",
     "text": [
      "2 is a prime number\n",
      "3 is a prime number\n",
      "4 equals 2 * 2.0\n",
      "5 is a prime number\n",
      "6 equals 2 * 3.0\n",
      "7 is a prime number\n",
      "8 equals 2 * 4.0\n",
      "9 equals 3 * 3.0\n"
     ]
    }
   ],
   "source": [
    "for n in range(2, 10):\n",
    "    for x in range(2, n):\n",
    "        if n % x == 0:\n",
    "            print(n, \"equals\", x, '*', n/x)\n",
    "            break\n",
    "    else:\n",
    "            print(n, 'is a prime number')"
   ]
  },
  {
   "cell_type": "code",
   "execution_count": 72,
   "metadata": {},
   "outputs": [
    {
     "name": "stdout",
     "output_type": "stream",
     "text": [
      "1는 홀수\n",
      "4는 짝수\n",
      "7는 홀수\n",
      "132는 짝수\n"
     ]
    }
   ],
   "source": [
    "num_list = [1, 4, 7, 132]\n",
    "\n",
    "for i in num_list:\n",
    "    if i % 2 == 0:\n",
    "        print(\"{}는 짝수\".format(i))\n",
    "    else:\n",
    "        print(\"{}는 홀수\".format(i))"
   ]
  },
  {
   "cell_type": "code",
   "execution_count": 76,
   "metadata": {},
   "outputs": [
    {
     "name": "stdout",
     "output_type": "stream",
     "text": [
      "숫자 입력3\n",
      "3가 있다\n"
     ]
    }
   ],
   "source": [
    "n = int(input(\"숫자 입력\"))\n",
    "val = [1, 2, 3, 4]\n",
    "if n in val:\n",
    "    print(\"{}가 있다\".format(n))\n",
    "else:\n",
    "    print(\"{}가 없다\")"
   ]
  },
  {
   "cell_type": "code",
   "execution_count": null,
   "metadata": {},
   "outputs": [],
   "source": []
  }
 ],
 "metadata": {
  "kernelspec": {
   "display_name": "Python 3",
   "language": "python",
   "name": "python3"
  },
  "language_info": {
   "codemirror_mode": {
    "name": "ipython",
    "version": 3
   },
   "file_extension": ".py",
   "mimetype": "text/x-python",
   "name": "python",
   "nbconvert_exporter": "python",
   "pygments_lexer": "ipython3",
   "version": "3.5.2rc1"
  }
 },
 "nbformat": 4,
 "nbformat_minor": 2
}
