{
 "cells": [
  {
   "cell_type": "markdown",
   "metadata": {},
   "source": [
    "### 파일 입출력"
   ]
  },
  {
   "cell_type": "markdown",
   "metadata": {},
   "source": [
    "#### txt 파일 출력"
   ]
  },
  {
   "cell_type": "code",
   "execution_count": 9,
   "metadata": {},
   "outputs": [],
   "source": [
    "fruit_output = open(\"fruit.txt\", \"wt\") # 텍스트 파일 생성해서 오픈 // wt: write + txt 형식\n",
    "# fruit_output = open(\"C:/sjjang/workspace/fruit.txt\", \"wt\") 경로를 직접 지정해줄수도 있음\n",
    "\n",
    "fruit_price = {'apple':3500, 'banana': 2500, 'cherry': 2400}\n",
    "\n",
    "for item in fruit_price.items():\n",
    "    print(item, file=fruit_output) # 파일에 쓰기\n",
    "\n",
    "fruit_output.close() # 파일 닫기"
   ]
  },
  {
   "cell_type": "code",
   "execution_count": 10,
   "metadata": {},
   "outputs": [],
   "source": [
    "fruit = open(\"fruit2.txt\", \"wt\")\n",
    "\n",
    "fruit.write('apple 3500\\n')\n",
    "fruit.write('banana 2500\\n')\n",
    "fruit.write('cherry 2400\\n')\n",
    "\n",
    "fruit.close()"
   ]
  },
  {
   "cell_type": "markdown",
   "metadata": {},
   "source": [
    "#### txt 파일 입력"
   ]
  },
  {
   "cell_type": "code",
   "execution_count": 14,
   "metadata": {},
   "outputs": [
    {
     "name": "stdout",
     "output_type": "stream",
     "text": [
      "['apple 3500\\n', 'banana 2500\\n', 'cherry 2400\\n']\n"
     ]
    }
   ],
   "source": [
    "fp = open(\"fruit2.txt\", \"rt\")\n",
    "\n",
    "fruit = fp.readlines()\n",
    "print(fruit)"
   ]
  },
  {
   "cell_type": "markdown",
   "metadata": {},
   "source": [
    "#### csv 파일 출력"
   ]
  },
  {
   "cell_type": "code",
   "execution_count": 11,
   "metadata": {},
   "outputs": [],
   "source": [
    "# csv 출력\n",
    "import csv\n",
    "\n",
    "with open(\"fruit.csv\", \"w\", newline=\"\") as fruit: # with를 사용하면 자동으로 close 호출\n",
    "    writer = csv.writer(fruit, delimiter=\",\")\n",
    "    writer.writerow(['apple'])\n",
    "    writer.writerow(['banana'])\n",
    "    writer.writerow(['cherry'])\n",
    "    writer.writerow(['peach'])\n",
    "    writer.writerow(['peer'])"
   ]
  },
  {
   "cell_type": "markdown",
   "metadata": {},
   "source": [
    "#### csv 입력"
   ]
  },
  {
   "cell_type": "code",
   "execution_count": 18,
   "metadata": {},
   "outputs": [
    {
     "name": "stdout",
     "output_type": "stream",
     "text": [
      "csvRead:  <_csv.reader object at 0x000001D820BC64C0>\n",
      "['apple']\n",
      "['banana']\n",
      "['cherry']\n",
      "['peach']\n",
      "['peer']\n",
      "[['apple'], ['banana'], ['cherry'], ['peach'], ['peer']]\n"
     ]
    }
   ],
   "source": [
    "import csv\n",
    "\n",
    "f = open(\"fruit.csv\", \"rt\")\n",
    "csvRead = csv.reader(f)\n",
    "print(\"csvRead: \", csvRead)\n",
    "\n",
    "fruit = []\n",
    "for i in csvRead:\n",
    "    print(i)\n",
    "    fruit.append(i)\n",
    "    \n",
    "print(fruit)"
   ]
  },
  {
   "cell_type": "code",
   "execution_count": null,
   "metadata": {},
   "outputs": [],
   "source": []
  }
 ],
 "metadata": {
  "kernelspec": {
   "display_name": "Python 3",
   "language": "python",
   "name": "python3"
  },
  "language_info": {
   "codemirror_mode": {
    "name": "ipython",
    "version": 3
   },
   "file_extension": ".py",
   "mimetype": "text/x-python",
   "name": "python",
   "nbconvert_exporter": "python",
   "pygments_lexer": "ipython3",
   "version": "3.5.2rc1"
  }
 },
 "nbformat": 4,
 "nbformat_minor": 2
}
