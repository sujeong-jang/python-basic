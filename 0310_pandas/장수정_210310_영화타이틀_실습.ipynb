{
 "cells": [
  {
   "cell_type": "code",
   "execution_count": 2,
   "metadata": {},
   "outputs": [],
   "source": [
    "import pandas as pd\n",
    "# 데이터 읽어서 데이터 프레임(titles) 만들기\n",
    "titles = pd.read_csv(\"c:/sjjang/workspace/titles.csv\")"
   ]
  },
  {
   "cell_type": "code",
   "execution_count": 37,
   "metadata": {},
   "outputs": [
    {
     "data": {
      "text/html": [
       "<div>\n",
       "<style scoped>\n",
       "    .dataframe tbody tr th:only-of-type {\n",
       "        vertical-align: middle;\n",
       "    }\n",
       "\n",
       "    .dataframe tbody tr th {\n",
       "        vertical-align: top;\n",
       "    }\n",
       "\n",
       "    .dataframe thead th {\n",
       "        text-align: right;\n",
       "    }\n",
       "</style>\n",
       "<table border=\"1\" class=\"dataframe\">\n",
       "  <thead>\n",
       "    <tr style=\"text-align: right;\">\n",
       "      <th></th>\n",
       "      <th>title</th>\n",
       "      <th>year</th>\n",
       "    </tr>\n",
       "  </thead>\n",
       "  <tbody>\n",
       "    <tr>\n",
       "      <th>0</th>\n",
       "      <td>The Rising Son</td>\n",
       "      <td>1990</td>\n",
       "    </tr>\n",
       "    <tr>\n",
       "      <th>1</th>\n",
       "      <td>Ashes of Kukulcan</td>\n",
       "      <td>2016</td>\n",
       "    </tr>\n",
       "    <tr>\n",
       "      <th>2</th>\n",
       "      <td>The Thousand Plane Raid</td>\n",
       "      <td>1969</td>\n",
       "    </tr>\n",
       "    <tr>\n",
       "      <th>3</th>\n",
       "      <td>Crucea de piatra</td>\n",
       "      <td>1993</td>\n",
       "    </tr>\n",
       "    <tr>\n",
       "      <th>4</th>\n",
       "      <td>The 86</td>\n",
       "      <td>2015</td>\n",
       "    </tr>\n",
       "  </tbody>\n",
       "</table>\n",
       "</div>"
      ],
      "text/plain": [
       "                     title  year\n",
       "0           The Rising Son  1990\n",
       "1        Ashes of Kukulcan  2016\n",
       "2  The Thousand Plane Raid  1969\n",
       "3         Crucea de piatra  1993\n",
       "4                   The 86  2015"
      ]
     },
     "execution_count": 37,
     "metadata": {},
     "output_type": "execute_result"
    }
   ],
   "source": [
    "titles.head()"
   ]
  },
  {
   "cell_type": "code",
   "execution_count": 38,
   "metadata": {},
   "outputs": [
    {
     "data": {
      "text/html": [
       "<div>\n",
       "<style scoped>\n",
       "    .dataframe tbody tr th:only-of-type {\n",
       "        vertical-align: middle;\n",
       "    }\n",
       "\n",
       "    .dataframe tbody tr th {\n",
       "        vertical-align: top;\n",
       "    }\n",
       "\n",
       "    .dataframe thead th {\n",
       "        text-align: right;\n",
       "    }\n",
       "</style>\n",
       "<table border=\"1\" class=\"dataframe\">\n",
       "  <thead>\n",
       "    <tr style=\"text-align: right;\">\n",
       "      <th></th>\n",
       "      <th>title</th>\n",
       "      <th>year</th>\n",
       "    </tr>\n",
       "  </thead>\n",
       "  <tbody>\n",
       "    <tr>\n",
       "      <th>215978</th>\n",
       "      <td>E yue</td>\n",
       "      <td>2005</td>\n",
       "    </tr>\n",
       "    <tr>\n",
       "      <th>215979</th>\n",
       "      <td>Lakota Girls</td>\n",
       "      <td>2015</td>\n",
       "    </tr>\n",
       "    <tr>\n",
       "      <th>215980</th>\n",
       "      <td>The Sting II</td>\n",
       "      <td>1983</td>\n",
       "    </tr>\n",
       "  </tbody>\n",
       "</table>\n",
       "</div>"
      ],
      "text/plain": [
       "               title  year\n",
       "215978         E yue  2005\n",
       "215979  Lakota Girls  2015\n",
       "215980  The Sting II  1983"
      ]
     },
     "execution_count": 38,
     "metadata": {},
     "output_type": "execute_result"
    }
   ],
   "source": [
    "titles.tail(3)"
   ]
  },
  {
   "cell_type": "code",
   "execution_count": 20,
   "metadata": {},
   "outputs": [
    {
     "name": "stdout",
     "output_type": "stream",
     "text": [
      "<class 'pandas.core.frame.DataFrame'>\n",
      "RangeIndex: 215981 entries, 0 to 215980\n",
      "Data columns (total 2 columns):\n",
      "title    215981 non-null object\n",
      "year     215981 non-null int64\n",
      "dtypes: int64(1), object(1)\n",
      "memory usage: 3.3+ MB\n"
     ]
    }
   ],
   "source": [
    "titles.info()"
   ]
  },
  {
   "cell_type": "code",
   "execution_count": 44,
   "metadata": {},
   "outputs": [
    {
     "data": {
      "text/plain": [
       "title    0\n",
       "year     0\n",
       "dtype: int64"
      ]
     },
     "execution_count": 44,
     "metadata": {},
     "output_type": "execute_result"
    }
   ],
   "source": [
    "titles.isnull().sum()"
   ]
  },
  {
   "cell_type": "code",
   "execution_count": 22,
   "metadata": {},
   "outputs": [
    {
     "data": {
      "text/html": [
       "<div>\n",
       "<style scoped>\n",
       "    .dataframe tbody tr th:only-of-type {\n",
       "        vertical-align: middle;\n",
       "    }\n",
       "\n",
       "    .dataframe tbody tr th {\n",
       "        vertical-align: top;\n",
       "    }\n",
       "\n",
       "    .dataframe thead th {\n",
       "        text-align: right;\n",
       "    }\n",
       "</style>\n",
       "<table border=\"1\" class=\"dataframe\">\n",
       "  <thead>\n",
       "    <tr style=\"text-align: right;\">\n",
       "      <th></th>\n",
       "      <th>year</th>\n",
       "    </tr>\n",
       "  </thead>\n",
       "  <tbody>\n",
       "    <tr>\n",
       "      <th>count</th>\n",
       "      <td>215981.000000</td>\n",
       "    </tr>\n",
       "    <tr>\n",
       "      <th>mean</th>\n",
       "      <td>1984.553822</td>\n",
       "    </tr>\n",
       "    <tr>\n",
       "      <th>std</th>\n",
       "      <td>29.343957</td>\n",
       "    </tr>\n",
       "    <tr>\n",
       "      <th>min</th>\n",
       "      <td>1894.000000</td>\n",
       "    </tr>\n",
       "    <tr>\n",
       "      <th>25%</th>\n",
       "      <td>1965.000000</td>\n",
       "    </tr>\n",
       "    <tr>\n",
       "      <th>50%</th>\n",
       "      <td>1994.000000</td>\n",
       "    </tr>\n",
       "    <tr>\n",
       "      <th>75%</th>\n",
       "      <td>2010.000000</td>\n",
       "    </tr>\n",
       "    <tr>\n",
       "      <th>max</th>\n",
       "      <td>2024.000000</td>\n",
       "    </tr>\n",
       "  </tbody>\n",
       "</table>\n",
       "</div>"
      ],
      "text/plain": [
       "                year\n",
       "count  215981.000000\n",
       "mean     1984.553822\n",
       "std        29.343957\n",
       "min      1894.000000\n",
       "25%      1965.000000\n",
       "50%      1994.000000\n",
       "75%      2010.000000\n",
       "max      2024.000000"
      ]
     },
     "execution_count": 22,
     "metadata": {},
     "output_type": "execute_result"
    }
   ],
   "source": [
    "titles.describe()"
   ]
  },
  {
   "cell_type": "code",
   "execution_count": 27,
   "metadata": {},
   "outputs": [
    {
     "data": {
      "text/plain": [
       "215981"
      ]
     },
     "execution_count": 27,
     "metadata": {},
     "output_type": "execute_result"
    }
   ],
   "source": [
    "# 전체 영화 수\n",
    "titles.shape[0]"
   ]
  },
  {
   "cell_type": "code",
   "execution_count": 46,
   "metadata": {},
   "outputs": [
    {
     "data": {
      "text/html": [
       "<div>\n",
       "<style scoped>\n",
       "    .dataframe tbody tr th:only-of-type {\n",
       "        vertical-align: middle;\n",
       "    }\n",
       "\n",
       "    .dataframe tbody tr th {\n",
       "        vertical-align: top;\n",
       "    }\n",
       "\n",
       "    .dataframe thead th {\n",
       "        text-align: right;\n",
       "    }\n",
       "</style>\n",
       "<table border=\"1\" class=\"dataframe\">\n",
       "  <thead>\n",
       "    <tr style=\"text-align: right;\">\n",
       "      <th></th>\n",
       "      <th>title</th>\n",
       "      <th>year</th>\n",
       "    </tr>\n",
       "  </thead>\n",
       "  <tbody>\n",
       "    <tr>\n",
       "      <th>165182</th>\n",
       "      <td>Miss Jerry</td>\n",
       "      <td>1894</td>\n",
       "    </tr>\n",
       "    <tr>\n",
       "      <th>85708</th>\n",
       "      <td>Reproduction of the Corbett and Fitzsimmons Fight</td>\n",
       "      <td>1897</td>\n",
       "    </tr>\n",
       "  </tbody>\n",
       "</table>\n",
       "</div>"
      ],
      "text/plain": [
       "                                                    title  year\n",
       "165182                                         Miss Jerry  1894\n",
       "85708   Reproduction of the Corbett and Fitzsimmons Fight  1897"
      ]
     },
     "execution_count": 46,
     "metadata": {},
     "output_type": "execute_result"
    }
   ],
   "source": [
    "# 가장 빠른 시기에 제작된 영화 2개\n",
    "movie = titles.sort_values(by=[\"year\"])\n",
    "movie.head(2)"
   ]
  },
  {
   "cell_type": "code",
   "execution_count": 36,
   "metadata": {},
   "outputs": [
    {
     "name": "stdout",
     "output_type": "stream",
     "text": [
      "                                          title  year\n",
      "43511                                    Hamlet  1910\n",
      "195015                                   Hamlet  1911\n",
      "154627                                   Hamlet  1913\n",
      "67896                        A Sagebrush Hamlet  1919\n",
      "91710                                    Hamlet  1921\n",
      "92481                        Han, hun og Hamlet  1922\n",
      "22416                        Han, hun og Hamlet  1932\n",
      "5562                                     Hamlet  1948\n",
      "68239                                    Hamlet  1954\n",
      "211110                              Hamlet (II)  1964\n",
      "169996                                   Hamlet  1964\n",
      "114224                                   Hamlet  1969\n",
      "205821                                   Hamlet  1973\n",
      "95424       Predstava 'Hamleta' u Mrdusi Donjoj  1974\n",
      "85741                                    Hamlet  1976\n",
      "99031                              Kadin Hamlet  1977\n",
      "106594                   Hamlet liikemaailmassa  1987\n",
      "87781                                    Hamlet  1987\n",
      "7105                  Hamlet: Prince of Denmark  1989\n",
      "42224                                    Hamlet  1990\n",
      "178758                             H for Hamlet  1993\n",
      "13227                     Green Eggs and Hamlet  1995\n",
      "141252                              Fuck Hamlet  1996\n",
      "186988                                   Hamlet  1996\n",
      "16132                 Hamlet, Prince of Denmark  1997\n",
      "87971                                    Hamlet  2000\n",
      "207847                   Hamlet in the Hamptons  2002\n",
      "34513                                  Hamlet_X  2003\n",
      "73720                                  Hamlet X  2004\n",
      "175653                              Hamlet (II)  2005\n",
      "4075            Dogg's Hamlet, Cahoot's Macbeth  2005\n",
      "24984                               Hamlet (II)  2007\n",
      "41595                              Hamlet (III)  2007\n",
      "66269   The Tragedy of Hamlet Prince of Denmark  2007\n",
      "160276                Hamlet the Vampire Slayer  2008\n",
      "91272                                  Hamlet 2  2008\n",
      "163645                                   Hamlet  2009\n",
      "196411                           Kitchen Hamlet  2009\n",
      "192815                                   Hamlet  2011\n",
      "155984                            Zombie Hamlet  2012\n",
      "14022                            Hamlet Unbound  2012\n",
      "78024                       Harry, Hamlet and I  2013\n",
      "62100                             Hamlet A.D.D.  2014\n",
      "207793                                   Hamlet  2014\n",
      "65478                            Hamlet's Ghost  2014\n",
      "37373                                    Hamlet  2015\n",
      "8227                                Hamlet (II)  2015\n",
      "202788                             Hamlet (III)  2015\n",
      "36465                  Hamlet, Son of a Kingpin  2015\n",
      "115393            National Theatre Live: Hamlet  2015\n",
      "108012                              Hamlet (II)  2016\n",
      "33666             Hamlet: The Fall of a Sparrow  2016\n",
      "26160                                    Hamlet  2016\n",
      "12007              Hamlet (A Modern Adaptation)  2016\n",
      "개수:  54\n"
     ]
    }
   ],
   "source": [
    "# \"Hamlet\"을 포함하는 영화는? 개수는?\n",
    "hamlet = movie[movie['title'].str.contains('Hamlet')]\n",
    "\n",
    "print(hamlet)\n",
    "print(\"개수: \",hamlet.shape[0])"
   ]
  },
  {
   "cell_type": "code",
   "execution_count": 33,
   "metadata": {},
   "outputs": [
    {
     "name": "stdout",
     "output_type": "stream",
     "text": [
      "                  title  year\n",
      "191379  Treasure Island  1918\n",
      "47769   Treasure Island  1920\n",
      "192917  Treasure Island  1934\n",
      "90175   Treasure Island  1950\n",
      "104714  Treasure Island  1972\n",
      "103646  Treasure Island  1973\n",
      "190792  Treasure Island  1985\n",
      "166675  Treasure Island  1999\n",
      "개수:  8\n"
     ]
    }
   ],
   "source": [
    "# 제목이 \"Treasure Island\"인 영화는? 개수는?\n",
    "is_treasure = movie['title'] == 'Treasure Island'\n",
    "tl = movie[is_treasure]\n",
    "print(tl.sort_values(by=[\"year\"]))\n",
    "print(\"개수: \", tl.shape[0])"
   ]
  },
  {
   "cell_type": "code",
   "execution_count": 47,
   "metadata": {},
   "outputs": [
    {
     "name": "stdout",
     "output_type": "stream",
     "text": [
      "                                                    title  year\n",
      "155736  A Ray of Sunshine: An Irresponsible Medley of ...  1950\n",
      "57582                                  Min syster och jag  1950\n",
      "35292                         Kees de zoon van de stroper  1950\n",
      "156704                                Across the Badlands  1950\n",
      "125696                                    La familia Vila  1950\n",
      "35792                                      Bitter Springs  1950\n",
      "40026                                 Zwei in einem Anzug  1950\n",
      "153233                                   Kubanskie kazaki  1950\n",
      "101530                                  Curvas peligrosas  1950\n",
      "40390                                         Kontrabando  1950\n",
      "193315                                      Atto d'accusa  1950\n",
      "90445                                    Tapahtui kaukana  1950\n",
      "102694                                What the Butler Saw  1950\n",
      "162038                    Der Mann, der sich selber sucht  1950\n",
      "156466                                       Sunset Blvd.  1950\n",
      "59899                                           Shakedown  1950\n",
      "102148                           La liga de las muchachas  1950\n",
      "163823                                  Morning Departure  1950\n",
      "60335                                La forza del destino  1950\n",
      "38214                                        Dong Xiaowan  1950\n",
      "100611                              The Fuller Brush Girl  1950\n",
      "60279                                  Der fallende Stern  1950\n",
      "82526                      Paramanandayya Shishyula Katha  1950\n",
      "199441                                            Gunfire  1950\n",
      "91996                                 Cronaca di un amore  1950\n",
      "34691                                    Restaurant Intim  1950\n",
      "100812                                        Barrio bajo  1950\n",
      "127276                                 State Penitentiary  1950\n",
      "56526                                           Marmolada  1950\n",
      "10374                             The Flame and the Arrow  1950\n",
      "...                                                   ...   ...\n",
      "20388                             Juke box - Urli d'amore  1959\n",
      "76868                                   Drillinge an Bord  1959\n",
      "17803                                    Dum na Orechovce  1959\n",
      "214614                                      Love Marriage  1959\n",
      "149007                                 Thunder in the Sun  1959\n",
      "153629                                      Kriegsgericht  1959\n",
      "30465                               Bobby Dodd greift ein  1959\n",
      "79259                           Watashi wa kai ni naritai  1959\n",
      "109503                                           Annibale  1959\n",
      "73837                                       Cerro Guanaco  1959\n",
      "204837                                       Noci i jutra  1959\n",
      "67561                        Freddy unter fremden Sternen  1959\n",
      "27388                       San theli i nyfi kai o gabros  1959\n",
      "87387                      Ipinagbili kami ng aming tatay  1959\n",
      "198172                                  Visa pour l'enfer  1959\n",
      "59788                                              Faisla  1959\n",
      "115334                                     Gangster Story  1959\n",
      "81568                                   Qian jin xiao jie  1959\n",
      "32127                                           Black Cat  1959\n",
      "137452                              La femme et le pantin  1959\n",
      "109446                          In the Wake of a Stranger  1959\n",
      "157439                                             Saathi  1959\n",
      "134598                                        The Manster  1959\n",
      "103220                                Kali Topi Lal Rumal  1959\n",
      "66355                          Die Nacht vor der Premiere  1959\n",
      "54006                                       Le petit prof  1959\n",
      "77198                                            Maria 38  1959\n",
      "7396                                  Witness in the Dark  1959\n",
      "193215                               The Flying Fontaines  1959\n",
      "78240                                        Les 90 Jours  1959\n",
      "\n",
      "[12120 rows x 2 columns]\n",
      "개수:  12120\n"
     ]
    }
   ],
   "source": [
    "is_movies = (movie['year'] >= 1950) & (movie['year'] <= 1959)\n",
    "movies = movie[is_movies]\n",
    "print(movies)\n",
    "print(\"개수: \", movies.shape[0])"
   ]
  },
  {
   "cell_type": "code",
   "execution_count": null,
   "metadata": {},
   "outputs": [],
   "source": []
  }
 ],
 "metadata": {
  "kernelspec": {
   "display_name": "Python 3",
   "language": "python",
   "name": "python3"
  }
 },
 "nbformat": 4,
 "nbformat_minor": 2
}
