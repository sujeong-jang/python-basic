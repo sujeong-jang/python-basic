{
 "cells": [
  {
   "cell_type": "markdown",
   "id": "passive-contents",
   "metadata": {},
   "source": [
    "# 크롤링 실습\n",
    "1. youtube.com\n",
    "2. 화면에서 키워드 입력 받아서 검색 결과를 받음\n",
    "- input\n",
    "- '데이터 분석' 검색 시 url\n",
    "    :https://www.youtube.com/results?search_query=데이터+분석\n",
    "- 두가지 타입이 존재 (개별영상, 재생목록)\n",
    "3. DataFrame으로 만들기\n",
    "- 개별 영상 데이터: 컬럼(체널명, 영상 제목, 영상 url, 조회수, 올린 날짜)\n",
    "- 재생목록보기 타입: 컬럼(체널명, 재생목록 제목, 재생목록 url, 재생목록 수)"
   ]
  },
  {
   "cell_type": "code",
   "execution_count": 42,
   "id": "blocked-medline",
   "metadata": {},
   "outputs": [],
   "source": [
    "from selenium import webdriver\n",
    "from bs4 import BeautifulSoup\n",
    "from collections import OrderedDict # 중복 제거할 때 사용\n",
    "import pandas as pd"
   ]
  },
  {
   "cell_type": "code",
   "execution_count": 43,
   "id": "british-internship",
   "metadata": {},
   "outputs": [
    {
     "name": "stdout",
     "output_type": "stream",
     "text": [
      "검색어를 입력해주세요데이터 분석\n"
     ]
    }
   ],
   "source": [
    "driver = webdriver.Chrome()\n",
    "base_url = \"https://www.youtube.com/results?search_query=\" \n",
    "\n",
    "# 쿼리 입력\n",
    "input_date = input(\"검색어를 입력해주세요\")\n",
    "tmp = input_date.split(\" \")\n",
    "search_query = \"+\".join(tmp)"
   ]
  },
  {
   "cell_type": "code",
   "execution_count": 44,
   "id": "wrong-killing",
   "metadata": {},
   "outputs": [],
   "source": [
    "url = base_url + search_query\n",
    "driver.get(url)"
   ]
  },
  {
   "cell_type": "code",
   "execution_count": 45,
   "id": "characteristic-channels",
   "metadata": {},
   "outputs": [],
   "source": [
    "html = driver.page_source\n",
    "soup = BeautifulSoup(html)"
   ]
  },
  {
   "cell_type": "code",
   "execution_count": 46,
   "id": "suffering-affairs",
   "metadata": {},
   "outputs": [
    {
     "name": "stdout",
     "output_type": "stream",
     "text": [
      "22\n",
      "22\n"
     ]
    }
   ],
   "source": [
    "# 영상 제목 list\n",
    "title = soup.select(\".title-and-badge > #video-title\")\n",
    "title_list = [item[\"title\"] for item in title]\n",
    "\n",
    "# 채널명 list\n",
    "channel_name = soup.select(\"#channel-info #text > a\")\n",
    "channel_list = [item.text for item in channel_name]\n",
    "\n",
    "# 영상 url list\n",
    "youtube_url = \"https://www.youtube.com/channel\"\n",
    "url_list = [youtube_url + item[\"href\"] for item in channel_name]\n",
    "\n",
    "# 조회수 list\n",
    "views = soup.select(\"#metadata-line > span:nth-child(1)\")\n",
    "views_list = [item.text for item in views]\n",
    "\n",
    "# 날짜 list\n",
    "date = soup.select(\"#metadata-line > span:nth-child(2)\")\n",
    "date_list = [item.text for item in date]"
   ]
  },
  {
   "cell_type": "code",
   "execution_count": 54,
   "id": "checked-cover",
   "metadata": {},
   "outputs": [
    {
     "data": {
      "text/html": [
       "<div>\n",
       "<style scoped>\n",
       "    .dataframe tbody tr th:only-of-type {\n",
       "        vertical-align: middle;\n",
       "    }\n",
       "\n",
       "    .dataframe tbody tr th {\n",
       "        vertical-align: top;\n",
       "    }\n",
       "\n",
       "    .dataframe thead th {\n",
       "        text-align: right;\n",
       "    }\n",
       "</style>\n",
       "<table border=\"1\" class=\"dataframe\">\n",
       "  <thead>\n",
       "    <tr style=\"text-align: right;\">\n",
       "      <th></th>\n",
       "      <th>채널명</th>\n",
       "      <th>영상 url</th>\n",
       "      <th>조회수</th>\n",
       "      <th>날짜</th>\n",
       "    </tr>\n",
       "    <tr>\n",
       "      <th>영상 제목</th>\n",
       "      <th></th>\n",
       "      <th></th>\n",
       "      <th></th>\n",
       "      <th></th>\n",
       "    </tr>\n",
       "  </thead>\n",
       "  <tbody>\n",
       "    <tr>\n",
       "      <th>[통계, 파이썬] 데이터분석 능력 기르기 1. 이건 알고 시작하자.</th>\n",
       "      <td>Data Scientist이지영</td>\n",
       "      <td>https://www.youtube.com/channel/channel/UC2Bre...</td>\n",
       "      <td>조회수 5.3천회</td>\n",
       "      <td>8개월 전</td>\n",
       "    </tr>\n",
       "    <tr>\n",
       "      <th>데이터 분석, 비전공자도 할 수 있다!!</th>\n",
       "      <td>인프런 - 지식을 배우고 나눠요</td>\n",
       "      <td>https://www.youtube.com/channel/channel/UC0Y0T...</td>\n",
       "      <td>조회수 2.2만회</td>\n",
       "      <td>1년 전</td>\n",
       "    </tr>\n",
       "    <tr>\n",
       "      <th>MS엑셀 파워쿼리를 활용 빅데이터 분석 프로그램 1시간에 배우기</th>\n",
       "      <td>IB 96</td>\n",
       "      <td>https://www.youtube.com/channel/channel/UClkjS...</td>\n",
       "      <td>조회수 1.1만회</td>\n",
       "      <td>11개월 전</td>\n",
       "    </tr>\n",
       "    <tr>\n",
       "      <th>엑셀 데이터 분석, 세상에서 가장 쉬운 엑셀 데이터 정규화! | 오빠두엑셀 고급 1-3강</th>\n",
       "      <td>오빠두엑셀 l 엑셀 강의 대표채널</td>\n",
       "      <td>https://www.youtube.com/channel/channel/UCZ6UH...</td>\n",
       "      <td>조회수 9만회</td>\n",
       "      <td>1년 전</td>\n",
       "    </tr>\n",
       "    <tr>\n",
       "      <th>R 데이터분석 기초 강의 01-1 - 데이터의 개념 및 빅데이터 분석의 특성</th>\n",
       "      <td>K-ICT 빅데이터센터</td>\n",
       "      <td>https://www.youtube.com/channel/channel/UChPue...</td>\n",
       "      <td>조회수 8.9천회</td>\n",
       "      <td>1년 전</td>\n",
       "    </tr>\n",
       "    <tr>\n",
       "      <th>무슨 분석 툴을 배워야 할까? - 실제 데이터 과학/데이터 분석 업계에서의 R 과 Python (파이썬) 비교</th>\n",
       "      <td>Visualising Korea</td>\n",
       "      <td>https://www.youtube.com/channel/channel/UCbBev...</td>\n",
       "      <td>조회수 1.6만회</td>\n",
       "      <td>8개월 전</td>\n",
       "    </tr>\n",
       "    <tr>\n",
       "      <th>데이터 분석/사이언스, 포트폴리오는 어떻게 준비해야할까?</th>\n",
       "      <td>Visualising Korea</td>\n",
       "      <td>https://www.youtube.com/channel/channel/UCbBev...</td>\n",
       "      <td>조회수 6.2천회</td>\n",
       "      <td>6개월 전</td>\n",
       "    </tr>\n",
       "    <tr>\n",
       "      <th>자전거 수요 예측[1/4] 캐글 머신러닝 탐색적 데이터 분석</th>\n",
       "      <td>todaycode오늘코드</td>\n",
       "      <td>https://www.youtube.com/channel/channel/UCLR3s...</td>\n",
       "      <td>조회수 2.7만회</td>\n",
       "      <td>3년 전</td>\n",
       "    </tr>\n",
       "    <tr>\n",
       "      <th>[#DM9_1영역] 신상품 기획에서 데이터 활용 방법은?</th>\n",
       "      <td>데이터맛집</td>\n",
       "      <td>https://www.youtube.com/channel/channel/UCRex9...</td>\n",
       "      <td>조회수 1.9만회</td>\n",
       "      <td>4개월 전</td>\n",
       "    </tr>\n",
       "    <tr>\n",
       "      <th>서울 주요지역 집값 30~50% 빠질 수 있다 | 김기원</th>\n",
       "      <td>체인지 그라운드</td>\n",
       "      <td>https://www.youtube.com/channel/channel/UCtfGL...</td>\n",
       "      <td>조회수 4.9천회</td>\n",
       "      <td>4시간 전</td>\n",
       "    </tr>\n",
       "    <tr>\n",
       "      <th>[삼성SDS 브이로그] 데이터 사이언티스트는 대체 무슨 일을 하는 사람들이지? - 애쓰디애쓴Job소리</th>\n",
       "      <td>삼성SDS</td>\n",
       "      <td>https://www.youtube.com/channel/channel/UCVaIG...</td>\n",
       "      <td>조회수 2.7만회</td>\n",
       "      <td>9개월 전</td>\n",
       "    </tr>\n",
       "    <tr>\n",
       "      <th>[농구분석] KBL스포츠토토 3월18일 국내 농구 집중분석 및 픽공유 - 토토 스포츠분석 프로토 배트맨토토 종이픽 LG vs KGC</th>\n",
       "      <td>스포츠데이터전문 김상세</td>\n",
       "      <td>https://www.youtube.com/channel/channel/UC_Zjw...</td>\n",
       "      <td>조회수 418회</td>\n",
       "      <td>6시간 전</td>\n",
       "    </tr>\n",
       "    <tr>\n",
       "      <th>데이터 분석 / 4년 후, 부동산...[공병호TV]</th>\n",
       "      <td>공병호TV</td>\n",
       "      <td>https://www.youtube.com/channel/channel/UCraFu...</td>\n",
       "      <td>조회수 7.7만회</td>\n",
       "      <td>1개월 전</td>\n",
       "    </tr>\n",
       "    <tr>\n",
       "      <th>위탁판매로 월수익500만원을 버는 나만의 방법 (초보자를 위한 스마트스토어 Q&amp;A, 위탁업체 찾는방법, 소싱, 직장인 N잡러 )</th>\n",
       "      <td>유어 안Your Ahn - 자기계발 &amp; 동기부여</td>\n",
       "      <td>https://www.youtube.com/channel/channel/UCI6zu...</td>\n",
       "      <td>조회수 9.8만회</td>\n",
       "      <td>1개월 전</td>\n",
       "    </tr>\n",
       "    <tr>\n",
       "      <th>파이썬 데이터 분석 - 설치부터 라이브러리 예제까지 (feat. 넘파이, 맷플롯립, 판다스)</th>\n",
       "      <td>GongbroDesk</td>\n",
       "      <td>https://www.youtube.com/channel/channel/UCo82I...</td>\n",
       "      <td>조회수 2천회</td>\n",
       "      <td>2개월 전</td>\n",
       "    </tr>\n",
       "    <tr>\n",
       "      <th>데이터로 세상을 보다 | 데이터 분석의 힘</th>\n",
       "      <td>책그림</td>\n",
       "      <td>https://www.youtube.com/channel/channel/UCOock...</td>\n",
       "      <td>조회수 2.3만회</td>\n",
       "      <td>2년 전</td>\n",
       "    </tr>\n",
       "    <tr>\n",
       "      <th>엑셀 데이터 분석의 끝판왕! 머신러닝의 시대, 미리 준비하세요! | 시계열 데이터 분석 | 오빠두엑셀 고급 1-2강</th>\n",
       "      <td>오빠두엑셀 l 엑셀 강의 대표채널</td>\n",
       "      <td>https://www.youtube.com/channel/channel/UCZ6UH...</td>\n",
       "      <td>조회수 3만회</td>\n",
       "      <td>1년 전</td>\n",
       "    </tr>\n",
       "    <tr>\n",
       "      <th>머신러닝, 데이터분석 공부 고민만 하는 분께 l 파이썬 공부 이유 l 머신러닝 공부 순서</th>\n",
       "      <td>꽃부리 AI With SJ</td>\n",
       "      <td>https://www.youtube.com/channel/channel/UCUdyx...</td>\n",
       "      <td>조회수 975회</td>\n",
       "      <td>1개월 전</td>\n",
       "    </tr>\n",
       "    <tr>\n",
       "      <th>[데이터 분석 툴 초격차 패키지] Google Analytics - 애널리틱스 핵심 보고서</th>\n",
       "      <td>패스트캠퍼스</td>\n",
       "      <td>https://www.youtube.com/channel/channel/UC1Lzv...</td>\n",
       "      <td>조회수 660회</td>\n",
       "      <td>1개월 전</td>\n",
       "    </tr>\n",
       "    <tr>\n",
       "      <th>헉 빅데이터 분석 채용 모집이... 내용 분석 및 접근 전략</th>\n",
       "      <td>기술노트with 알렉</td>\n",
       "      <td>https://www.youtube.com/channel/channel/UCBtG0...</td>\n",
       "      <td>조회수 1.8천회</td>\n",
       "      <td>4개월 전</td>\n",
       "    </tr>\n",
       "    <tr>\n",
       "      <th>[브이로그] 한국소비자원 빅데이터분석팀의 일상✨</th>\n",
       "      <td>한국소비자원TV</td>\n",
       "      <td>https://www.youtube.com/channel/user/kcacast</td>\n",
       "      <td>조회수 8.8천회</td>\n",
       "      <td>7개월 전</td>\n",
       "    </tr>\n",
       "    <tr>\n",
       "      <th>당신의 분석이 회사를 바꾸지 못하는 이유 - 데이터 사이언티스트 하용호 [The Red]</th>\n",
       "      <td>패스트캠퍼스</td>\n",
       "      <td>https://www.youtube.com/channel/channel/UC1Lzv...</td>\n",
       "      <td>조회수 4.7천회</td>\n",
       "      <td>6개월 전</td>\n",
       "    </tr>\n",
       "  </tbody>\n",
       "</table>\n",
       "</div>"
      ],
      "text/plain": [
       "                                                                           채널명  \\\n",
       "영상 제목                                                                            \n",
       "[통계, 파이썬] 데이터분석 능력 기르기 1. 이건 알고 시작하자.                        Data Scientist이지영   \n",
       "데이터 분석, 비전공자도 할 수 있다!!                                       인프런 - 지식을 배우고 나눠요   \n",
       "MS엑셀 파워쿼리를 활용 빅데이터 분석 프로그램 1시간에 배우기                                      IB 96   \n",
       "엑셀 데이터 분석, 세상에서 가장 쉬운 엑셀 데이터 정규화! | 오빠두엑셀 고급 1-3강           오빠두엑셀 l 엑셀 강의 대표채널   \n",
       "R 데이터분석 기초 강의 01-1 - 데이터의 개념 및 빅데이터 분석의 특성                        K-ICT 빅데이터센터   \n",
       "무슨 분석 툴을 배워야 할까? - 실제 데이터 과학/데이터 분석 업계에서의 R 과 P...           Visualising Korea   \n",
       "데이터 분석/사이언스, 포트폴리오는 어떻게 준비해야할까?                              Visualising Korea   \n",
       "자전거 수요 예측[1/4] 캐글 머신러닝 탐색적 데이터 분석                                todaycode오늘코드   \n",
       "[#DM9_1영역] 신상품 기획에서 데이터 활용 방법은?                                          데이터맛집   \n",
       "서울 주요지역 집값 30~50% 빠질 수 있다 | 김기원                                       체인지 그라운드   \n",
       "[삼성SDS 브이로그] 데이터 사이언티스트는 대체 무슨 일을 하는 사람들이지? - 애...                       삼성SDS   \n",
       "[농구분석] KBL스포츠토토 3월18일 국내 농구 집중분석 및 픽공유 - 토토 스포츠...                스포츠데이터전문 김상세   \n",
       "데이터 분석 / 4년 후, 부동산...[공병호TV]                                             공병호TV   \n",
       "위탁판매로 월수익500만원을 버는 나만의 방법 (초보자를 위한 스마트스토어 Q&A, ...  유어 안Your Ahn - 자기계발 & 동기부여   \n",
       "파이썬 데이터 분석 - 설치부터 라이브러리 예제까지 (feat. 넘파이, 맷플롯립, ...                 GongbroDesk   \n",
       "데이터로 세상을 보다 | 데이터 분석의 힘                                                    책그림   \n",
       "엑셀 데이터 분석의 끝판왕! 머신러닝의 시대, 미리 준비하세요! | 시계열 데이터 분...          오빠두엑셀 l 엑셀 강의 대표채널   \n",
       "머신러닝, 데이터분석 공부 고민만 하는 분께 l 파이썬 공부 이유 l 머신러닝 공부 순서               꽃부리 AI With SJ   \n",
       "[데이터 분석 툴 초격차 패키지] Google Analytics - 애널리틱스 핵심 보고서                      패스트캠퍼스   \n",
       "헉 빅데이터 분석 채용 모집이... 내용 분석 및 접근 전략                                  기술노트with 알렉   \n",
       "[브이로그] 한국소비자원 빅데이터분석팀의 일상✨                                            한국소비자원TV   \n",
       "당신의 분석이 회사를 바꾸지 못하는 이유 - 데이터 사이언티스트 하용호 [The Red]                       패스트캠퍼스   \n",
       "\n",
       "                                                                                               영상 url  \\\n",
       "영상 제목                                                                                                   \n",
       "[통계, 파이썬] 데이터분석 능력 기르기 1. 이건 알고 시작하자.               https://www.youtube.com/channel/channel/UC2Bre...   \n",
       "데이터 분석, 비전공자도 할 수 있다!!                              https://www.youtube.com/channel/channel/UC0Y0T...   \n",
       "MS엑셀 파워쿼리를 활용 빅데이터 분석 프로그램 1시간에 배우기                 https://www.youtube.com/channel/channel/UClkjS...   \n",
       "엑셀 데이터 분석, 세상에서 가장 쉬운 엑셀 데이터 정규화! | 오빠두엑셀 고급 1-3강   https://www.youtube.com/channel/channel/UCZ6UH...   \n",
       "R 데이터분석 기초 강의 01-1 - 데이터의 개념 및 빅데이터 분석의 특성          https://www.youtube.com/channel/channel/UChPue...   \n",
       "무슨 분석 툴을 배워야 할까? - 실제 데이터 과학/데이터 분석 업계에서의 R 과 P...  https://www.youtube.com/channel/channel/UCbBev...   \n",
       "데이터 분석/사이언스, 포트폴리오는 어떻게 준비해야할까?                     https://www.youtube.com/channel/channel/UCbBev...   \n",
       "자전거 수요 예측[1/4] 캐글 머신러닝 탐색적 데이터 분석                   https://www.youtube.com/channel/channel/UCLR3s...   \n",
       "[#DM9_1영역] 신상품 기획에서 데이터 활용 방법은?                     https://www.youtube.com/channel/channel/UCRex9...   \n",
       "서울 주요지역 집값 30~50% 빠질 수 있다 | 김기원                     https://www.youtube.com/channel/channel/UCtfGL...   \n",
       "[삼성SDS 브이로그] 데이터 사이언티스트는 대체 무슨 일을 하는 사람들이지? - 애...  https://www.youtube.com/channel/channel/UCVaIG...   \n",
       "[농구분석] KBL스포츠토토 3월18일 국내 농구 집중분석 및 픽공유 - 토토 스포츠...  https://www.youtube.com/channel/channel/UC_Zjw...   \n",
       "데이터 분석 / 4년 후, 부동산...[공병호TV]                        https://www.youtube.com/channel/channel/UCraFu...   \n",
       "위탁판매로 월수익500만원을 버는 나만의 방법 (초보자를 위한 스마트스토어 Q&A, ...  https://www.youtube.com/channel/channel/UCI6zu...   \n",
       "파이썬 데이터 분석 - 설치부터 라이브러리 예제까지 (feat. 넘파이, 맷플롯립, ...  https://www.youtube.com/channel/channel/UCo82I...   \n",
       "데이터로 세상을 보다 | 데이터 분석의 힘                             https://www.youtube.com/channel/channel/UCOock...   \n",
       "엑셀 데이터 분석의 끝판왕! 머신러닝의 시대, 미리 준비하세요! | 시계열 데이터 분...  https://www.youtube.com/channel/channel/UCZ6UH...   \n",
       "머신러닝, 데이터분석 공부 고민만 하는 분께 l 파이썬 공부 이유 l 머신러닝 공부 순서   https://www.youtube.com/channel/channel/UCUdyx...   \n",
       "[데이터 분석 툴 초격차 패키지] Google Analytics - 애널리틱스 핵심 보고서  https://www.youtube.com/channel/channel/UC1Lzv...   \n",
       "헉 빅데이터 분석 채용 모집이... 내용 분석 및 접근 전략                   https://www.youtube.com/channel/channel/UCBtG0...   \n",
       "[브이로그] 한국소비자원 빅데이터분석팀의 일상✨                               https://www.youtube.com/channel/user/kcacast   \n",
       "당신의 분석이 회사를 바꾸지 못하는 이유 - 데이터 사이언티스트 하용호 [The Red]   https://www.youtube.com/channel/channel/UC1Lzv...   \n",
       "\n",
       "                                                          조회수      날짜  \n",
       "영상 제목                                                                  \n",
       "[통계, 파이썬] 데이터분석 능력 기르기 1. 이건 알고 시작하자.               조회수 5.3천회   8개월 전  \n",
       "데이터 분석, 비전공자도 할 수 있다!!                              조회수 2.2만회    1년 전  \n",
       "MS엑셀 파워쿼리를 활용 빅데이터 분석 프로그램 1시간에 배우기                 조회수 1.1만회  11개월 전  \n",
       "엑셀 데이터 분석, 세상에서 가장 쉬운 엑셀 데이터 정규화! | 오빠두엑셀 고급 1-3강     조회수 9만회    1년 전  \n",
       "R 데이터분석 기초 강의 01-1 - 데이터의 개념 및 빅데이터 분석의 특성          조회수 8.9천회    1년 전  \n",
       "무슨 분석 툴을 배워야 할까? - 실제 데이터 과학/데이터 분석 업계에서의 R 과 P...  조회수 1.6만회   8개월 전  \n",
       "데이터 분석/사이언스, 포트폴리오는 어떻게 준비해야할까?                     조회수 6.2천회   6개월 전  \n",
       "자전거 수요 예측[1/4] 캐글 머신러닝 탐색적 데이터 분석                   조회수 2.7만회    3년 전  \n",
       "[#DM9_1영역] 신상품 기획에서 데이터 활용 방법은?                     조회수 1.9만회   4개월 전  \n",
       "서울 주요지역 집값 30~50% 빠질 수 있다 | 김기원                     조회수 4.9천회   4시간 전  \n",
       "[삼성SDS 브이로그] 데이터 사이언티스트는 대체 무슨 일을 하는 사람들이지? - 애...  조회수 2.7만회   9개월 전  \n",
       "[농구분석] KBL스포츠토토 3월18일 국내 농구 집중분석 및 픽공유 - 토토 스포츠...   조회수 418회   6시간 전  \n",
       "데이터 분석 / 4년 후, 부동산...[공병호TV]                        조회수 7.7만회   1개월 전  \n",
       "위탁판매로 월수익500만원을 버는 나만의 방법 (초보자를 위한 스마트스토어 Q&A, ...  조회수 9.8만회   1개월 전  \n",
       "파이썬 데이터 분석 - 설치부터 라이브러리 예제까지 (feat. 넘파이, 맷플롯립, ...    조회수 2천회   2개월 전  \n",
       "데이터로 세상을 보다 | 데이터 분석의 힘                             조회수 2.3만회    2년 전  \n",
       "엑셀 데이터 분석의 끝판왕! 머신러닝의 시대, 미리 준비하세요! | 시계열 데이터 분...    조회수 3만회    1년 전  \n",
       "머신러닝, 데이터분석 공부 고민만 하는 분께 l 파이썬 공부 이유 l 머신러닝 공부 순서    조회수 975회   1개월 전  \n",
       "[데이터 분석 툴 초격차 패키지] Google Analytics - 애널리틱스 핵심 보고서   조회수 660회   1개월 전  \n",
       "헉 빅데이터 분석 채용 모집이... 내용 분석 및 접근 전략                   조회수 1.8천회   4개월 전  \n",
       "[브이로그] 한국소비자원 빅데이터분석팀의 일상✨                          조회수 8.8천회   7개월 전  \n",
       "당신의 분석이 회사를 바꾸지 못하는 이유 - 데이터 사이언티스트 하용호 [The Red]   조회수 4.7천회   6개월 전  "
      ]
     },
     "execution_count": 54,
     "metadata": {},
     "output_type": "execute_result"
    }
   ],
   "source": [
    "# dataframe 생성\n",
    "df = pd.DataFrame({\"영상 제목\":title_list,\n",
    "                   \"채널명\":channel_list,\n",
    "                   \"영상 url\": url_list,\n",
    "                   \"조회수\": views_list,\n",
    "                   \"날짜\": date_list})\n",
    "df.set_index(\"영상 제목\", inplace=True)\n",
    "df"
   ]
  },
  {
   "cell_type": "code",
   "execution_count": 55,
   "id": "national-candidate",
   "metadata": {},
   "outputs": [
    {
     "data": {
      "text/plain": [
       "['이것이 데이터 분석이다 with 파이썬']"
      ]
     },
     "execution_count": 55,
     "metadata": {},
     "output_type": "execute_result"
    }
   ],
   "source": [
    "# 영상 제목 리스트\n",
    "tmp = soup.select(\".style-scope ytd-playlist-renderer span#video-title\")\n",
    "title_list = [item.text.strip() for item in tmp]\n",
    "title_list"
   ]
  },
  {
   "cell_type": "code",
   "execution_count": 56,
   "id": "german-winning",
   "metadata": {},
   "outputs": [
    {
     "data": {
      "text/plain": [
       "['한빛미디어']"
      ]
     },
     "execution_count": 56,
     "metadata": {},
     "output_type": "execute_result"
    }
   ],
   "source": [
    "# 체널명 리스트\n",
    "tmp = soup.select(\".style-scope ytd-playlist-renderer #text > a\")\n",
    "channel_list = [item.text for item in tmp]\n",
    "channel_list"
   ]
  },
  {
   "cell_type": "code",
   "execution_count": 57,
   "id": "independent-discharge",
   "metadata": {},
   "outputs": [
    {
     "data": {
      "text/plain": [
       "'[이것이 데이터 분석이다 with 파이썬_00] 왜 Data Science 인가? 탐색, 시각화, 목적 정리,[이것이 데이터 분석이다 with 파이썬_01] 분석 환경 구축하기 주피터 노트북, 아나콘다 설치'"
      ]
     },
     "execution_count": 57,
     "metadata": {},
     "output_type": "execute_result"
    }
   ],
   "source": [
    "# 재생목록 리스트\n",
    "tmp = soup.select(\"#list a\")\n",
    "tmp_list = [item.text for item in tmp]\n",
    "play_list = \",\".join(tmp_list)\n",
    "play_list"
   ]
  },
  {
   "cell_type": "code",
   "execution_count": 58,
   "id": "hollywood-quick",
   "metadata": {},
   "outputs": [
    {
     "data": {
      "text/plain": [
       "'https://www.youtube.com//watch?v=K0YPltIT7jc&list=PLVsNizTWUw7FmLj3IMECoauQ_-DUbNF0M,https://www.youtube.com//watch?v=nSEkwomMtxs&list=PLVsNizTWUw7FmLj3IMECoauQ_-DUbNF0M'"
      ]
     },
     "execution_count": 58,
     "metadata": {},
     "output_type": "execute_result"
    }
   ],
   "source": [
    "# 재생목록 url\n",
    "youtube_url = \"https://www.youtube.com/\"\n",
    "play_url_list = [youtube_url+item[\"href\"] for item in tmp]\n",
    "url_list = \",\".join(play_url_list)\n",
    "url_list"
   ]
  },
  {
   "cell_type": "code",
   "execution_count": 59,
   "id": "regulated-bryan",
   "metadata": {},
   "outputs": [
    {
     "data": {
      "text/plain": [
       "['21']"
      ]
     },
     "execution_count": 59,
     "metadata": {},
     "output_type": "execute_result"
    }
   ],
   "source": [
    "# 재생목록 수\n",
    "tmp = soup.select(\"#overlays > ytd-thumbnail-overlay-side-panel-renderer > yt-formatted-string\")\n",
    "list_count = [item.text for item in tmp]\n",
    "list_count"
   ]
  },
  {
   "cell_type": "code",
   "execution_count": 61,
   "id": "worthy-vacation",
   "metadata": {},
   "outputs": [
    {
     "data": {
      "text/html": [
       "<div>\n",
       "<style scoped>\n",
       "    .dataframe tbody tr th:only-of-type {\n",
       "        vertical-align: middle;\n",
       "    }\n",
       "\n",
       "    .dataframe tbody tr th {\n",
       "        vertical-align: top;\n",
       "    }\n",
       "\n",
       "    .dataframe thead th {\n",
       "        text-align: right;\n",
       "    }\n",
       "</style>\n",
       "<table border=\"1\" class=\"dataframe\">\n",
       "  <thead>\n",
       "    <tr style=\"text-align: right;\">\n",
       "      <th></th>\n",
       "      <th>채널명</th>\n",
       "      <th>재생목록</th>\n",
       "      <th>url</th>\n",
       "      <th>재생목록 수</th>\n",
       "    </tr>\n",
       "    <tr>\n",
       "      <th>영상 제목</th>\n",
       "      <th></th>\n",
       "      <th></th>\n",
       "      <th></th>\n",
       "      <th></th>\n",
       "    </tr>\n",
       "  </thead>\n",
       "  <tbody>\n",
       "    <tr>\n",
       "      <th>이것이 데이터 분석이다 with 파이썬</th>\n",
       "      <td>한빛미디어</td>\n",
       "      <td>[이것이 데이터 분석이다 with 파이썬_00] 왜 Data Science 인가? ...</td>\n",
       "      <td>https://www.youtube.com//watch?v=K0YPltIT7jc&amp;l...</td>\n",
       "      <td>21</td>\n",
       "    </tr>\n",
       "  </tbody>\n",
       "</table>\n",
       "</div>"
      ],
      "text/plain": [
       "                         채널명  \\\n",
       "영상 제목                          \n",
       "이것이 데이터 분석이다 with 파이썬  한빛미디어   \n",
       "\n",
       "                                                                    재생목록  \\\n",
       "영상 제목                                                                      \n",
       "이것이 데이터 분석이다 with 파이썬  [이것이 데이터 분석이다 with 파이썬_00] 왜 Data Science 인가? ...   \n",
       "\n",
       "                                                                     url  \\\n",
       "영상 제목                                                                      \n",
       "이것이 데이터 분석이다 with 파이썬  https://www.youtube.com//watch?v=K0YPltIT7jc&l...   \n",
       "\n",
       "                      재생목록 수  \n",
       "영상 제목                         \n",
       "이것이 데이터 분석이다 with 파이썬     21  "
      ]
     },
     "execution_count": 61,
     "metadata": {},
     "output_type": "execute_result"
    }
   ],
   "source": [
    "# dataframe 생성\n",
    "df = pd.DataFrame({\n",
    "    \"영상 제목\": title_list,\n",
    "    \"채널명\": channel_list,\n",
    "    \"재생목록\": play_list,\n",
    "    \"url\": url_list,\n",
    "    \"재생목록 수\":list_count\n",
    "    })\n",
    "df.set_index(\"영상 제목\", inplace=True)\n",
    "df"
   ]
  },
  {
   "cell_type": "code",
   "execution_count": null,
   "id": "prime-brake",
   "metadata": {},
   "outputs": [],
   "source": []
  }
 ],
 "metadata": {
  "kernelspec": {
   "display_name": "Python 3",
   "language": "python",
   "name": "python3"
  },
  "language_info": {
   "codemirror_mode": {
    "name": "ipython",
    "version": 3
   },
   "file_extension": ".py",
   "mimetype": "text/x-python",
   "name": "python",
   "nbconvert_exporter": "python",
   "pygments_lexer": "ipython3",
   "version": "3.9.2"
  }
 },
 "nbformat": 4,
 "nbformat_minor": 5
}
