{
 "cells": [
  {
   "cell_type": "markdown",
   "id": "attended-separate",
   "metadata": {},
   "source": [
    "### Selenium\n",
    ": 여러 언어에서 웹드라이버를 통해 웹 자동화 테스트 혹은 웹 자동화를 도와주는 라이브러리"
   ]
  },
  {
   "cell_type": "code",
   "execution_count": 13,
   "id": "electronic-idaho",
   "metadata": {},
   "outputs": [],
   "source": [
    "# https://selenium-python.readthedocs.io/getting-started.html"
   ]
  },
  {
   "cell_type": "code",
   "execution_count": 18,
   "id": "polyphonic-reminder",
   "metadata": {},
   "outputs": [],
   "source": [
    "from selenium import webdriver\n",
    "from selenium.webdriver.common.keys import Keys\n",
    "\n",
    "driver = webdriver.Chrome()\n",
    "driver.get(\"http://www.python.org\")"
   ]
  },
  {
   "cell_type": "code",
   "execution_count": 20,
   "id": "tutorial-magnitude",
   "metadata": {},
   "outputs": [],
   "source": [
    "assert \"Python\" in driver.title"
   ]
  },
  {
   "cell_type": "code",
   "execution_count": 22,
   "id": "criminal-function",
   "metadata": {},
   "outputs": [],
   "source": [
    "elem = driver.find_element_by_name(\"q\") # 마우스 포커싱을 위해 사용 (name이 q인 요소를 찾음)\n",
    "elem.clear()"
   ]
  },
  {
   "cell_type": "code",
   "execution_count": 23,
   "id": "moved-carry",
   "metadata": {},
   "outputs": [],
   "source": [
    "elem.send_keys(\"pycon\") # input 창에 문자열 입력"
   ]
  },
  {
   "cell_type": "code",
   "execution_count": 24,
   "id": "pointed-ebony",
   "metadata": {},
   "outputs": [],
   "source": [
    "elem.send_keys(Keys.RETURN) # enter 클릭"
   ]
  },
  {
   "cell_type": "code",
   "execution_count": 27,
   "id": "hybrid-rendering",
   "metadata": {},
   "outputs": [],
   "source": [
    "assert \"No results found.\" not in driver.page_source"
   ]
  },
  {
   "cell_type": "code",
   "execution_count": 28,
   "id": "administrative-friend",
   "metadata": {},
   "outputs": [
    {
     "data": {
      "text/plain": [
       "<bound method WebDriver.close of <selenium.webdriver.chrome.webdriver.WebDriver (session=\"44cfec590fbf29392033294539ee6f0d\")>>"
      ]
     },
     "execution_count": 28,
     "metadata": {},
     "output_type": "execute_result"
    }
   ],
   "source": [
    "driver.close"
   ]
  },
  {
   "cell_type": "markdown",
   "id": "presidential-retrieval",
   "metadata": {},
   "source": [
    "### id, password 자동 입력"
   ]
  },
  {
   "cell_type": "code",
   "execution_count": 29,
   "id": "appropriate-constant",
   "metadata": {},
   "outputs": [],
   "source": [
    "driver.get(\"http://nate.com\")"
   ]
  },
  {
   "cell_type": "code",
   "execution_count": 67,
   "id": "shaped-thesis",
   "metadata": {},
   "outputs": [],
   "source": [
    "elem = driver.find_element_by_name(\"ID\")"
   ]
  },
  {
   "cell_type": "code",
   "execution_count": 68,
   "id": "regional-convert",
   "metadata": {},
   "outputs": [],
   "source": [
    "elem.send_keys(\"zz_zzzzzzzzz\")"
   ]
  },
  {
   "cell_type": "code",
   "execution_count": 69,
   "id": "freelance-viking",
   "metadata": {},
   "outputs": [],
   "source": [
    "elem = driver.find_element_by_id(\"PASSDM\")"
   ]
  },
  {
   "cell_type": "code",
   "execution_count": 70,
   "id": "disabled-optics",
   "metadata": {},
   "outputs": [],
   "source": [
    "elem.send_keys(\"tnwjd2245\", Keys.RETURN)"
   ]
  },
  {
   "cell_type": "code",
   "execution_count": null,
   "id": "toxic-struggle",
   "metadata": {},
   "outputs": [],
   "source": []
  },
  {
   "cell_type": "code",
   "execution_count": 72,
   "id": "italian-thriller",
   "metadata": {},
   "outputs": [
    {
     "name": "stderr",
     "output_type": "stream",
     "text": [
      "<ipython-input-72-6e4a3e5a8bf4>:3: DeprecationWarning: use options instead of chrome_options\n",
      "  driver = webdriver.Chrome(chrome_options=option)\n"
     ]
    }
   ],
   "source": [
    "# 화면 안띄우고 실행\n",
    "options = webdriver.ChromeOptions()\n",
    "options.add_argument(\"headless\")\n",
    "driver = webdriver.Chrome(chrome_options=options)\n",
    "driver.get(\"http://www.example.com\")"
   ]
  },
  {
   "cell_type": "code",
   "execution_count": 73,
   "id": "professional-sweden",
   "metadata": {},
   "outputs": [],
   "source": [
    "driver.close()"
   ]
  },
  {
   "cell_type": "code",
   "execution_count": null,
   "id": "chemical-metropolitan",
   "metadata": {},
   "outputs": [],
   "source": []
  }
 ],
 "metadata": {
  "kernelspec": {
   "display_name": "Python 3",
   "language": "python",
   "name": "python3"
  },
  "language_info": {
   "codemirror_mode": {
    "name": "ipython",
    "version": 3
   },
   "file_extension": ".py",
   "mimetype": "text/x-python",
   "name": "python",
   "nbconvert_exporter": "python",
   "pygments_lexer": "ipython3",
   "version": "3.9.2"
  }
 },
 "nbformat": 4,
 "nbformat_minor": 5
}
