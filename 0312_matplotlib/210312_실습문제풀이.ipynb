{
 "cells": [
  {
   "cell_type": "code",
   "execution_count": 2,
   "id": "judicial-aluminum",
   "metadata": {},
   "outputs": [],
   "source": [
    "# 6개의 원소를 [1,9,\"one\",\"two\",3,\"three\"] 갖는 val을 만들고\n",
    "# 마지막 원소를 본인의 이름으로 바꾼 뒤\n",
    "# -4번째 인덱스를 갖는 원소와\n",
    "# 리스트의 첫번째 문자열 데이터를 출력하시오"
   ]
  },
  {
   "cell_type": "code",
   "execution_count": 5,
   "id": "smart-quick",
   "metadata": {},
   "outputs": [
    {
     "name": "stdout",
     "output_type": "stream",
     "text": [
      "-4번째 인덱스:  one\n",
      "첫번째 문자열 데이터:  one\n"
     ]
    }
   ],
   "source": [
    "val = [1,9,\"one\",\"two\",3,\"three\"]\n",
    "val[-1] = \"sjjang\"\n",
    "print(\"-4번째 인덱스: \", val[-4])\n",
    "for i in val:\n",
    "    if type(i) == str:\n",
    "        print(\"첫번째 문자열 데이터: \",i)\n",
    "        break"
   ]
  },
  {
   "cell_type": "code",
   "execution_count": 13,
   "id": "accessible-latitude",
   "metadata": {},
   "outputs": [
    {
     "name": "stdout",
     "output_type": "stream",
     "text": [
      "가장 큰 수:  11\n",
      "가장 큰 수:  11\n"
     ]
    }
   ],
   "source": [
    "# 7, 2, 1, 8, 9, 10 6개 숫자 리스트를 변수에 저장하고 큰 수 찾기\n",
    "num = [7, 2, 1, 8, 11, 10]\n",
    "num.sort()\n",
    "print(\"가장 큰 수: \", num[-1])\n",
    "print(\"가장 큰 수: \", max(num))"
   ]
  },
  {
   "cell_type": "code",
   "execution_count": null,
   "id": "color-south",
   "metadata": {},
   "outputs": [],
   "source": []
  }
 ],
 "metadata": {
  "kernelspec": {
   "display_name": "Python 3",
   "language": "python",
   "name": "python3"
  },
  "language_info": {
   "codemirror_mode": {
    "name": "ipython",
    "version": 3
   },
   "file_extension": ".py",
   "mimetype": "text/x-python",
   "name": "python",
   "nbconvert_exporter": "python",
   "pygments_lexer": "ipython3",
   "version": "3.5.2rc1"
  }
 },
 "nbformat": 4,
 "nbformat_minor": 5
}
